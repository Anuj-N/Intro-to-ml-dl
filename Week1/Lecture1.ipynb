{
  "nbformat": 4,
  "nbformat_minor": 0,
  "metadata": {
    "colab": {
      "name": "Hello world.ipynb",
      "provenance": [],
      "collapsed_sections": [],
      "authorship_tag": "ABX9TyMtH5JwefE2xTHYemOt9cRf",
      "include_colab_link": true
    },
    "kernelspec": {
      "name": "python3",
      "display_name": "Python 3"
    },
    "language_info": {
      "name": "python"
    }
  },
  "cells": [
    {
      "cell_type": "markdown",
      "metadata": {
        "id": "view-in-github",
        "colab_type": "text"
      },
      "source": [
        "<a href=\"https://colab.research.google.com/github/abhi-glitchhg/Intro-to-ml-dl/blob/main/Week1/Lecture1.ipynb\" target=\"_parent\"><img src=\"https://colab.research.google.com/assets/colab-badge.svg\" alt=\"Open In Colab\"/></a>"
      ]
    },
    {
      "cell_type": "markdown",
      "source": [
        "Note: - In the first lecture, strings and lists were covered. "
      ],
      "metadata": {
        "id": "ADZ8-Irr_3Is"
      }
    },
    {
      "cell_type": "markdown",
      "source": [
        "#Welcome\n",
        " \n",
        "In this notebook, we will be covering basic datatypes available in python3"
      ],
      "metadata": {
        "id": "QCOdq6j8qYZw"
      }
    },
    {
      "cell_type": "code",
      "source": [
        "!python --version"
      ],
      "metadata": {
        "colab": {
          "base_uri": "https://localhost:8080/"
        },
        "id": "HTLjRHYzr_TY",
        "outputId": "fce12140-618b-4f90-ac80-51e2fc34a22d"
      },
      "execution_count": 192,
      "outputs": [
        {
          "output_type": "stream",
          "name": "stdout",
          "text": [
            "Python 3.7.12\n"
          ]
        }
      ]
    },
    {
      "cell_type": "code",
      "execution_count": 193,
      "metadata": {
        "colab": {
          "base_uri": "https://localhost:8080/"
        },
        "id": "Dfy6M4vqkAkF",
        "outputId": "4df50418-5c57-4119-a77e-ee087c2ca58f"
      },
      "outputs": [
        {
          "output_type": "stream",
          "name": "stdout",
          "text": [
            "Hello world\n"
          ]
        }
      ],
      "source": [
        "print(\"Hello world\")"
      ]
    },
    {
      "cell_type": "code",
      "source": [
        "print(\"Any random stuff here!\")\n",
        "print(2)"
      ],
      "metadata": {
        "colab": {
          "base_uri": "https://localhost:8080/"
        },
        "id": "rt2v0ddUkdV3",
        "outputId": "99184cf1-4907-4ce2-8ab1-0013b231aac1"
      },
      "execution_count": 194,
      "outputs": [
        {
          "output_type": "stream",
          "name": "stdout",
          "text": [
            "Any random stuff here!\n",
            "2\n"
          ]
        }
      ]
    },
    {
      "cell_type": "markdown",
      "source": [
        "###Rules for Defining Python Variables\n",
        "\n",
        "*   A variable name must start with a letter or the underscore character\n",
        "*   A variable name cannot start with a number\n",
        "*   A variable name can only contain alpha-numeric characters and underscores (A-z, 0-9, and _ )\n",
        "*   Variable names are case-sensitive. \n"
      ],
      "metadata": {
        "id": "Dp036DV9Uhbk"
      }
    },
    {
      "cell_type": "code",
      "source": [
        "#following are valid ways of defining variables\n",
        "variable1 = 5\n",
        "varia_ble2 = \"python\"\n",
        "___var____ = \"var\"\n",
        "age = 2"
      ],
      "metadata": {
        "id": "tbeVH2QyltIM"
      },
      "execution_count": 195,
      "outputs": []
    },
    {
      "cell_type": "code",
      "source": [
        "#invalid ways.. (here ipython also marks it red indicating this is error..)\n",
        "1sas = \"error\"\n",
        "es@4 = 0 \n"
      ],
      "metadata": {
        "id": "aUOalWNBBGA5",
        "colab": {
          "base_uri": "https://localhost:8080/",
          "height": 134
        },
        "outputId": "e6aa7601-349b-44e3-b707-add056c7c78d"
      },
      "execution_count": 196,
      "outputs": [
        {
          "output_type": "error",
          "ename": "SyntaxError",
          "evalue": "ignored",
          "traceback": [
            "\u001b[0;36m  File \u001b[0;32m\"<ipython-input-196-b23c67df7f41>\"\u001b[0;36m, line \u001b[0;32m2\u001b[0m\n\u001b[0;31m    1sas = \"error\"\u001b[0m\n\u001b[0m       ^\u001b[0m\n\u001b[0;31mSyntaxError\u001b[0m\u001b[0;31m:\u001b[0m invalid syntax\n"
          ]
        }
      ]
    },
    {
      "cell_type": "code",
      "source": [
        "num1 = 3 #assignment operation\n",
        "num2 = 4 \n",
        "\n",
        "#Booleans\n",
        "\n",
        "print(num1==3) # == is a comparison operator, if RHS and LHS are equal; it returns boolean value `True`, else returns false\n",
        "print(num1>num2) \n",
        "print(num1<=num2) \n",
        "\n",
        "\n",
        "\n",
        "print(\"difference between num1 and num2 is \", num2-num1)\n",
        "print(\"sum of num1 and num2 is \", num1+num2)\n",
        "print(\"multiplication of num1 and num2 is \", num1*num2)"
      ],
      "metadata": {
        "colab": {
          "base_uri": "https://localhost:8080/"
        },
        "id": "oRk1niR5s2ZY",
        "outputId": "252e6322-785f-4f22-f271-7b00a69f2ef9"
      },
      "execution_count": 197,
      "outputs": [
        {
          "output_type": "stream",
          "name": "stdout",
          "text": [
            "True\n",
            "False\n",
            "True\n",
            "difference between num1 and num2 is  1\n",
            "sum of num1 and num2 is  7\n",
            "multiplication of num1 and num2 is  12\n"
          ]
        }
      ]
    },
    {
      "cell_type": "code",
      "source": [
        "id(3) == id(num1)"
      ],
      "metadata": {
        "colab": {
          "base_uri": "https://localhost:8080/"
        },
        "id": "U9lCyxwJLJbH",
        "outputId": "6b946967-e230-43cb-b242-3bfed3e41231"
      },
      "execution_count": 198,
      "outputs": [
        {
          "output_type": "execute_result",
          "data": {
            "text/plain": [
              "True"
            ]
          },
          "metadata": {},
          "execution_count": 198
        }
      ]
    },
    {
      "cell_type": "code",
      "source": [
        "print(9/2) # `/` is  normal division, output will be 4.5\n",
        "print(9//2) #integer division ; only integer part of the division will be returned\n",
        "print(9%2) # calculates remainder, here = 1 \n",
        "print(9**2) #power operation 9^2 = 81;\n",
        "print(9**3) #power operation, 9^3 = 729"
      ],
      "metadata": {
        "colab": {
          "base_uri": "https://localhost:8080/"
        },
        "id": "VzFPHLuJvs8v",
        "outputId": "e519f235-ef4e-4812-d89d-2304a195ae82"
      },
      "execution_count": 199,
      "outputs": [
        {
          "output_type": "stream",
          "name": "stdout",
          "text": [
            "4.5\n",
            "4\n",
            "1\n",
            "81\n",
            "729\n"
          ]
        }
      ]
    },
    {
      "cell_type": "markdown",
      "source": [
        "#strings\n"
      ],
      "metadata": {
        "id": "Oaj6A4ff9F2R"
      }
    },
    {
      "cell_type": "code",
      "source": [
        "string1 = \"hello world\""
      ],
      "metadata": {
        "id": "cOc_T5hK9IZB"
      },
      "execution_count": 200,
      "outputs": []
    },
    {
      "cell_type": "code",
      "source": [
        "#printing hello\n",
        "\n",
        "string1[0:5] #only 0,1,2,3 and 4th index are printed, letter at 5th index is not printed "
      ],
      "metadata": {
        "colab": {
          "base_uri": "https://localhost:8080/",
          "height": 36
        },
        "id": "DYoyPbtUW9tH",
        "outputId": "315a6b35-f63d-49d4-db40-38cfef410844"
      },
      "execution_count": 203,
      "outputs": [
        {
          "output_type": "execute_result",
          "data": {
            "text/plain": [
              "'hello'"
            ],
            "application/vnd.google.colaboratory.intrinsic+json": {
              "type": "string"
            }
          },
          "metadata": {},
          "execution_count": 203
        }
      ]
    },
    {
      "cell_type": "code",
      "source": [
        "string1[5] #returns string at 5th index i.e blank space"
      ],
      "metadata": {
        "colab": {
          "base_uri": "https://localhost:8080/",
          "height": 36
        },
        "id": "7b6MDoOD9Obl",
        "outputId": "1e1b0f35-754d-4cb5-af4f-98e22fe7508a"
      },
      "execution_count": 204,
      "outputs": [
        {
          "output_type": "execute_result",
          "data": {
            "text/plain": [
              "' '"
            ],
            "application/vnd.google.colaboratory.intrinsic+json": {
              "type": "string"
            }
          },
          "metadata": {},
          "execution_count": 204
        }
      ]
    },
    {
      "cell_type": "code",
      "source": [
        "string1[2:] #slices string from 2nd index till the end of string, here we havent provided the index at which we have to stop, hence by default value is till end of the string "
      ],
      "metadata": {
        "colab": {
          "base_uri": "https://localhost:8080/",
          "height": 36
        },
        "id": "U4GTkAdf9Odb",
        "outputId": "d9ef2ee7-18f6-4396-d895-c6e92fce7bd7"
      },
      "execution_count": 205,
      "outputs": [
        {
          "output_type": "execute_result",
          "data": {
            "text/plain": [
              "'llo world'"
            ],
            "application/vnd.google.colaboratory.intrinsic+json": {
              "type": "string"
            }
          },
          "metadata": {},
          "execution_count": 205
        }
      ]
    },
    {
      "cell_type": "code",
      "source": [
        "string1[3:] #slices string from 3rd index till the end,"
      ],
      "metadata": {
        "colab": {
          "base_uri": "https://localhost:8080/",
          "height": 36
        },
        "id": "zw7B8LWB9OhN",
        "outputId": "e5f82dcb-87ea-4ed6-c6e3-d4960920438f"
      },
      "execution_count": 206,
      "outputs": [
        {
          "output_type": "execute_result",
          "data": {
            "text/plain": [
              "'lo world'"
            ],
            "application/vnd.google.colaboratory.intrinsic+json": {
              "type": "string"
            }
          },
          "metadata": {},
          "execution_count": 206
        }
      ]
    },
    {
      "cell_type": "code",
      "source": [
        "string1= \"hello world\"\n",
        "string1[:5] #slices string from begining till 5th index (5th index is excluded)"
      ],
      "metadata": {
        "colab": {
          "base_uri": "https://localhost:8080/",
          "height": 36
        },
        "id": "l5VmJsG49Ojg",
        "outputId": "af04c2ce-8047-44e0-c88d-65f1472670cc"
      },
      "execution_count": 207,
      "outputs": [
        {
          "output_type": "execute_result",
          "data": {
            "text/plain": [
              "'hello'"
            ],
            "application/vnd.google.colaboratory.intrinsic+json": {
              "type": "string"
            }
          },
          "metadata": {},
          "execution_count": 207
        }
      ]
    },
    {
      "cell_type": "code",
      "source": [
        "string1[1:5] ##slices string from 1st index(second letter) till 5th index (5th index is excluded)"
      ],
      "metadata": {
        "colab": {
          "base_uri": "https://localhost:8080/",
          "height": 36
        },
        "id": "2BeFpphN9Olr",
        "outputId": "f3e2d922-569f-472e-c4c8-8ed134b72d76"
      },
      "execution_count": 208,
      "outputs": [
        {
          "output_type": "execute_result",
          "data": {
            "text/plain": [
              "'ello'"
            ],
            "application/vnd.google.colaboratory.intrinsic+json": {
              "type": "string"
            }
          },
          "metadata": {},
          "execution_count": 208
        }
      ]
    },
    {
      "cell_type": "code",
      "source": [
        "string1[1:-1] # -1 is the index of the last letter, -2 is the index of second last letter, and so on...."
      ],
      "metadata": {
        "colab": {
          "base_uri": "https://localhost:8080/",
          "height": 36
        },
        "id": "5WCGVm359On1",
        "outputId": "affe8f6a-7b03-47dd-dd92-85b49b1e6d94"
      },
      "execution_count": 209,
      "outputs": [
        {
          "output_type": "execute_result",
          "data": {
            "text/plain": [
              "'ello worl'"
            ],
            "application/vnd.google.colaboratory.intrinsic+json": {
              "type": "string"
            }
          },
          "metadata": {},
          "execution_count": 209
        }
      ]
    },
    {
      "cell_type": "code",
      "source": [
        "string1[2:-2]\n"
      ],
      "metadata": {
        "colab": {
          "base_uri": "https://localhost:8080/",
          "height": 36
        },
        "id": "SSQf7R-x9gNs",
        "outputId": "89bcb87a-90aa-456f-d194-57e9548d8a7e"
      },
      "execution_count": 210,
      "outputs": [
        {
          "output_type": "execute_result",
          "data": {
            "text/plain": [
              "'llo wor'"
            ],
            "application/vnd.google.colaboratory.intrinsic+json": {
              "type": "string"
            }
          },
          "metadata": {},
          "execution_count": 210
        }
      ]
    },
    {
      "cell_type": "code",
      "source": [
        "print(string1[1:8:1])\n",
        "print(string1[1:8]) #output is same as above, \n",
        "print(string1[1:8:3])\n",
        "# string1[1:5:2] #start index : stop index : step \n",
        "# if no value for start index is given, slicing will begin from index 0, if no value for end index given, slicing will stop after the last letter, default value of step is 1. "
      ],
      "metadata": {
        "colab": {
          "base_uri": "https://localhost:8080/"
        },
        "id": "SW1mEkOmfs_2",
        "outputId": "9b1ca9fd-1fbc-4050-8636-54e5fa802066"
      },
      "execution_count": 217,
      "outputs": [
        {
          "output_type": "stream",
          "name": "stdout",
          "text": [
            "ello wo\n",
            "ello wo\n",
            "eoo\n"
          ]
        }
      ]
    },
    {
      "cell_type": "code",
      "source": [
        "string1[::4] #slices string from begining to end but with step of 2\n",
        "# \"hello world\""
      ],
      "metadata": {
        "colab": {
          "base_uri": "https://localhost:8080/",
          "height": 36
        },
        "id": "rpwavtoI9gQ-",
        "outputId": "0787947b-a2f6-4f72-e0f8-0cfea210af2f"
      },
      "execution_count": 218,
      "outputs": [
        {
          "output_type": "execute_result",
          "data": {
            "text/plain": [
              "'hor'"
            ],
            "application/vnd.google.colaboratory.intrinsic+json": {
              "type": "string"
            }
          },
          "metadata": {},
          "execution_count": 218
        }
      ]
    },
    {
      "cell_type": "code",
      "source": [
        "string1[:] #from beggining till the end, these are the default values for start index and stop index"
      ],
      "metadata": {
        "colab": {
          "base_uri": "https://localhost:8080/",
          "height": 36
        },
        "id": "dKQsCI4kaa2n",
        "outputId": "2bd4bb86-48f4-4847-eaa8-d97e806931be"
      },
      "execution_count": 219,
      "outputs": [
        {
          "output_type": "execute_result",
          "data": {
            "text/plain": [
              "'hello world'"
            ],
            "application/vnd.google.colaboratory.intrinsic+json": {
              "type": "string"
            }
          },
          "metadata": {},
          "execution_count": 219
        }
      ]
    },
    {
      "cell_type": "code",
      "source": [
        ""
      ],
      "metadata": {
        "id": "KThZWKhvBudT"
      },
      "execution_count": 219,
      "outputs": []
    },
    {
      "cell_type": "code",
      "source": [
        "#concat\n",
        "string1 = \"hello world\" #enter anything that you want!\n",
        "string2 = string1 + \" concat string\" "
      ],
      "metadata": {
        "id": "WXm1Rtgf9OrN"
      },
      "execution_count": 220,
      "outputs": []
    },
    {
      "cell_type": "code",
      "source": [
        "string1 + \" hello\" # instead of +, try - ! "
      ],
      "metadata": {
        "colab": {
          "base_uri": "https://localhost:8080/",
          "height": 36
        },
        "id": "sPWr_7iluCEg",
        "outputId": "96445afb-5f33-4fdd-f5e9-57e9785ff25c"
      },
      "execution_count": 221,
      "outputs": [
        {
          "output_type": "execute_result",
          "data": {
            "text/plain": [
              "'hello world hello'"
            ],
            "application/vnd.google.colaboratory.intrinsic+json": {
              "type": "string"
            }
          },
          "metadata": {},
          "execution_count": 221
        }
      ]
    },
    {
      "cell_type": "code",
      "source": [
        "string1 *2 == string1 + string1 # == is comparator, returns true if the LHS is equal to RHS"
      ],
      "metadata": {
        "colab": {
          "base_uri": "https://localhost:8080/"
        },
        "id": "XiecNbR69-r6",
        "outputId": "b2283e33-773e-4cf7-82e4-a597b263d0d7"
      },
      "execution_count": 222,
      "outputs": [
        {
          "output_type": "execute_result",
          "data": {
            "text/plain": [
              "True"
            ]
          },
          "metadata": {},
          "execution_count": 222
        }
      ]
    },
    {
      "cell_type": "code",
      "source": [
        "string3 = \"abcdefgabcdefgsnje jsceckke\" "
      ],
      "metadata": {
        "id": "A6T_SJdvcHa0"
      },
      "execution_count": 223,
      "outputs": []
    },
    {
      "cell_type": "code",
      "source": [
        "string3.split(\"df\") # no `df` substring in the above string, hence it will return whole string in a list..."
      ],
      "metadata": {
        "colab": {
          "base_uri": "https://localhost:8080/"
        },
        "id": "wroC0XFHcHdK",
        "outputId": "aaaf7189-08d4-4b67-a2c0-8eb87f8210ec"
      },
      "execution_count": 224,
      "outputs": [
        {
          "output_type": "execute_result",
          "data": {
            "text/plain": [
              "['abcdefgabcdefgsnje jsceckke']"
            ]
          },
          "metadata": {},
          "execution_count": 224
        }
      ]
    },
    {
      "cell_type": "code",
      "source": [
        "#ord() function returns ASCII value of the character\n",
        "print(ord(\"A\"))\n",
        "\n",
        "\n",
        "print(ord(\" \"))"
      ],
      "metadata": {
        "colab": {
          "base_uri": "https://localhost:8080/"
        },
        "id": "tyVk25rucHf0",
        "outputId": "e69e73eb-9eb4-460d-a390-ba0b08571d7e"
      },
      "execution_count": 225,
      "outputs": [
        {
          "output_type": "stream",
          "name": "stdout",
          "text": [
            "65\n",
            "32\n"
          ]
        }
      ]
    },
    {
      "cell_type": "markdown",
      "source": [
        "for more about ascii, checkout - https://www.cs.cmu.edu/~pattis/15-1XX/common/handouts/ascii.html"
      ],
      "metadata": {
        "id": "G7D_Rd1B8ARy"
      }
    },
    {
      "cell_type": "code",
      "source": [
        "#ASCII values \n",
        "# A = 65\n",
        "# B = 66 \n",
        "# C = 67\n",
        "# z = 122"
      ],
      "metadata": {
        "id": "4FBWFuj2cHiZ"
      },
      "execution_count": 226,
      "outputs": []
    },
    {
      "cell_type": "code",
      "source": [
        "double_string1 = string1*2  \n",
        "double_string1"
      ],
      "metadata": {
        "id": "IU4qxF-g-Rab",
        "colab": {
          "base_uri": "https://localhost:8080/",
          "height": 36
        },
        "outputId": "e8d001c8-0a2a-4208-82f5-8c33e249e59c"
      },
      "execution_count": 227,
      "outputs": [
        {
          "output_type": "execute_result",
          "data": {
            "text/plain": [
              "'hello worldhello world'"
            ],
            "application/vnd.google.colaboratory.intrinsic+json": {
              "type": "string"
            }
          },
          "metadata": {},
          "execution_count": 227
        }
      ]
    },
    {
      "cell_type": "code",
      "source": [
        "double_string1.split(\"ll\")"
      ],
      "metadata": {
        "colab": {
          "base_uri": "https://localhost:8080/"
        },
        "id": "1YIKeEOE-RoL",
        "outputId": "4fb262da-1ca0-4a7c-a51a-271903884669"
      },
      "execution_count": 228,
      "outputs": [
        {
          "output_type": "execute_result",
          "data": {
            "text/plain": [
              "['he', 'o worldhe', 'o world']"
            ]
          },
          "metadata": {},
          "execution_count": 228
        }
      ]
    },
    {
      "cell_type": "code",
      "source": [
        "string1 + 71 #invalid because string and int cant be added together"
      ],
      "metadata": {
        "id": "tCguMqxsgzBn",
        "colab": {
          "base_uri": "https://localhost:8080/",
          "height": 171
        },
        "outputId": "1d524db4-9111-41e3-8af8-944f51f275ec"
      },
      "execution_count": 229,
      "outputs": [
        {
          "output_type": "error",
          "ename": "TypeError",
          "evalue": "ignored",
          "traceback": [
            "\u001b[0;31m---------------------------------------------------------------------------\u001b[0m",
            "\u001b[0;31mTypeError\u001b[0m                                 Traceback (most recent call last)",
            "\u001b[0;32m<ipython-input-229-fe53fb369b99>\u001b[0m in \u001b[0;36m<module>\u001b[0;34m()\u001b[0m\n\u001b[0;32m----> 1\u001b[0;31m \u001b[0mstring1\u001b[0m \u001b[0;34m+\u001b[0m \u001b[0;36m71\u001b[0m \u001b[0;31m#invalid because string and int cant be added together\u001b[0m\u001b[0;34m\u001b[0m\u001b[0;34m\u001b[0m\u001b[0m\n\u001b[0m",
            "\u001b[0;31mTypeError\u001b[0m: can only concatenate str (not \"int\") to str"
          ]
        }
      ]
    },
    {
      "cell_type": "code",
      "source": [
        "int1 =71\n",
        "int1"
      ],
      "metadata": {
        "colab": {
          "base_uri": "https://localhost:8080/"
        },
        "id": "T1uw5iVWdSvE",
        "outputId": "494b6101-6c86-4afe-9c76-9a5e4b57585d"
      },
      "execution_count": 230,
      "outputs": [
        {
          "output_type": "execute_result",
          "data": {
            "text/plain": [
              "71"
            ]
          },
          "metadata": {},
          "execution_count": 230
        }
      ]
    },
    {
      "cell_type": "code",
      "source": [
        "str(int1)"
      ],
      "metadata": {
        "colab": {
          "base_uri": "https://localhost:8080/",
          "height": 36
        },
        "id": "kqHAzHkrdS4N",
        "outputId": "1946da42-c96b-4ee1-9f21-20a7328ebabf"
      },
      "execution_count": 231,
      "outputs": [
        {
          "output_type": "execute_result",
          "data": {
            "text/plain": [
              "'71'"
            ],
            "application/vnd.google.colaboratory.intrinsic+json": {
              "type": "string"
            }
          },
          "metadata": {},
          "execution_count": 231
        }
      ]
    },
    {
      "cell_type": "code",
      "source": [
        "#we must type cast the int to string, \n",
        "string1+ str(71)"
      ],
      "metadata": {
        "colab": {
          "base_uri": "https://localhost:8080/",
          "height": 36
        },
        "id": "emXRed2dg7Qh",
        "outputId": "6981488c-2137-4e73-f7a5-ee0fb03c1cc3"
      },
      "execution_count": 232,
      "outputs": [
        {
          "output_type": "execute_result",
          "data": {
            "text/plain": [
              "'hello world71'"
            ],
            "application/vnd.google.colaboratory.intrinsic+json": {
              "type": "string"
            }
          },
          "metadata": {},
          "execution_count": 232
        }
      ]
    },
    {
      "cell_type": "markdown",
      "source": [
        "#list\n"
      ],
      "metadata": {
        "id": "cFDsUZ8u1Fvc"
      }
    },
    {
      "cell_type": "code",
      "source": [
        "list1 = [\"1\", 6, \"a\", 0.0003,2e-3] #objects in list can be of any type, (str,int,float,list)\n",
        "\n",
        "print(list1)"
      ],
      "metadata": {
        "colab": {
          "base_uri": "https://localhost:8080/"
        },
        "id": "wcq8zgtk1HuY",
        "outputId": "73cf500c-5cfb-44cd-c583-10581659b595"
      },
      "execution_count": 233,
      "outputs": [
        {
          "output_type": "stream",
          "name": "stdout",
          "text": [
            "['1', 6, 'a', 0.0003, 0.002]\n"
          ]
        }
      ]
    },
    {
      "cell_type": "code",
      "source": [
        "list1.append(\"vv\")"
      ],
      "metadata": {
        "id": "Lich0YRu1HrA"
      },
      "execution_count": 234,
      "outputs": []
    },
    {
      "cell_type": "code",
      "source": [
        "list1[3] = \"1223829382y3827\""
      ],
      "metadata": {
        "id": "QZ5DoLNJgqV0"
      },
      "execution_count": 235,
      "outputs": []
    },
    {
      "cell_type": "code",
      "source": [
        "list1"
      ],
      "metadata": {
        "colab": {
          "base_uri": "https://localhost:8080/"
        },
        "id": "piJRBwgOguLD",
        "outputId": "e5672723-4ad6-4397-caaa-9e73dfa06c49"
      },
      "execution_count": 236,
      "outputs": [
        {
          "output_type": "execute_result",
          "data": {
            "text/plain": [
              "['1', 6, 'a', '1223829382y3827', 0.002, 'vv']"
            ]
          },
          "metadata": {},
          "execution_count": 236
        }
      ]
    },
    {
      "cell_type": "code",
      "source": [
        "list2 = [\"333\", 333]"
      ],
      "metadata": {
        "id": "ZPAIyp7dguM7"
      },
      "execution_count": 237,
      "outputs": []
    },
    {
      "cell_type": "code",
      "source": [
        "list1 += list2  #list1 = list1+ list2\n",
        "list1"
      ],
      "metadata": {
        "colab": {
          "base_uri": "https://localhost:8080/"
        },
        "id": "bv19VirvguQ1",
        "outputId": "11d4c46a-86ed-4b44-c73c-3edb87dadf18"
      },
      "execution_count": 238,
      "outputs": [
        {
          "output_type": "execute_result",
          "data": {
            "text/plain": [
              "['1', 6, 'a', '1223829382y3827', 0.002, 'vv', '333', 333]"
            ]
          },
          "metadata": {},
          "execution_count": 238
        }
      ]
    },
    {
      "cell_type": "code",
      "source": [
        "list1[1] "
      ],
      "metadata": {
        "id": "5cXucPcp5p6E",
        "colab": {
          "base_uri": "https://localhost:8080/"
        },
        "outputId": "69512ff5-6613-4919-ca80-804dc7bd6083"
      },
      "execution_count": 239,
      "outputs": [
        {
          "output_type": "execute_result",
          "data": {
            "text/plain": [
              "6"
            ]
          },
          "metadata": {},
          "execution_count": 239
        }
      ]
    },
    {
      "cell_type": "code",
      "source": [
        "list1[1] = 3 #replaces the element at the first index of the list1"
      ],
      "metadata": {
        "id": "27H2XTZn5w70"
      },
      "execution_count": 240,
      "outputs": []
    },
    {
      "cell_type": "code",
      "source": [
        "list1"
      ],
      "metadata": {
        "colab": {
          "base_uri": "https://localhost:8080/"
        },
        "id": "6B-Sjm1e54jR",
        "outputId": "c70356c1-88ed-4137-b385-4d7afb02b800"
      },
      "execution_count": 241,
      "outputs": [
        {
          "output_type": "execute_result",
          "data": {
            "text/plain": [
              "['1', 3, 'a', '1223829382y3827', 0.002, 'vv', '333', 333]"
            ]
          },
          "metadata": {},
          "execution_count": 241
        }
      ]
    },
    {
      "cell_type": "code",
      "source": [
        "#add \n",
        "list2 = [\"333\", 333,]"
      ],
      "metadata": {
        "id": "jABrfdO-6UVg"
      },
      "execution_count": 242,
      "outputs": []
    },
    {
      "cell_type": "code",
      "source": [
        "list3 = list1 + list2"
      ],
      "metadata": {
        "id": "m_bkRZa-6l3e"
      },
      "execution_count": 243,
      "outputs": []
    },
    {
      "cell_type": "code",
      "source": [
        "list3 "
      ],
      "metadata": {
        "id": "aIgGlIp9hVng",
        "colab": {
          "base_uri": "https://localhost:8080/"
        },
        "outputId": "bbdf00c6-a53c-4464-e542-771255a86948"
      },
      "execution_count": 244,
      "outputs": [
        {
          "output_type": "execute_result",
          "data": {
            "text/plain": [
              "['1', 3, 'a', '1223829382y3827', 0.002, 'vv', '333', 333, '333', 333]"
            ]
          },
          "metadata": {},
          "execution_count": 244
        }
      ]
    },
    {
      "cell_type": "code",
      "source": [
        "list1 += list2 # list1 = list1 + list2 "
      ],
      "metadata": {
        "id": "ACrZsTRf6m0h"
      },
      "execution_count": 245,
      "outputs": []
    },
    {
      "cell_type": "code",
      "source": [
        "list1"
      ],
      "metadata": {
        "id": "5alwKL8J7Idb",
        "colab": {
          "base_uri": "https://localhost:8080/"
        },
        "outputId": "14e1b432-46f5-4830-f850-98bb0160df5f"
      },
      "execution_count": 246,
      "outputs": [
        {
          "output_type": "execute_result",
          "data": {
            "text/plain": [
              "['1', 3, 'a', '1223829382y3827', 0.002, 'vv', '333', 333, '333', 333]"
            ]
          },
          "metadata": {},
          "execution_count": 246
        }
      ]
    },
    {
      "cell_type": "code",
      "source": [
        "list1 * 3 == list1 + list1 +list1 \n",
        "list1*3"
      ],
      "metadata": {
        "colab": {
          "base_uri": "https://localhost:8080/"
        },
        "id": "Pj5QR2Gn7QY_",
        "outputId": "f16cab73-4f03-49ac-8250-2b9499d4fb53"
      },
      "execution_count": 247,
      "outputs": [
        {
          "output_type": "execute_result",
          "data": {
            "text/plain": [
              "['1',\n",
              " 3,\n",
              " 'a',\n",
              " '1223829382y3827',\n",
              " 0.002,\n",
              " 'vv',\n",
              " '333',\n",
              " 333,\n",
              " '333',\n",
              " 333,\n",
              " '1',\n",
              " 3,\n",
              " 'a',\n",
              " '1223829382y3827',\n",
              " 0.002,\n",
              " 'vv',\n",
              " '333',\n",
              " 333,\n",
              " '333',\n",
              " 333,\n",
              " '1',\n",
              " 3,\n",
              " 'a',\n",
              " '1223829382y3827',\n",
              " 0.002,\n",
              " 'vv',\n",
              " '333',\n",
              " 333,\n",
              " '333',\n",
              " 333]"
            ]
          },
          "metadata": {},
          "execution_count": 247
        }
      ]
    },
    {
      "cell_type": "code",
      "source": [
        "(3* list1)/3  #this will give an error\n",
        "#not valid statement,"
      ],
      "metadata": {
        "id": "RgYrjVCR7ZFK",
        "colab": {
          "base_uri": "https://localhost:8080/",
          "height": 189
        },
        "outputId": "3341e805-7af5-40ff-c12c-d10d9fc3b72e"
      },
      "execution_count": 249,
      "outputs": [
        {
          "output_type": "error",
          "ename": "TypeError",
          "evalue": "ignored",
          "traceback": [
            "\u001b[0;31m---------------------------------------------------------------------------\u001b[0m",
            "\u001b[0;31mTypeError\u001b[0m                                 Traceback (most recent call last)",
            "\u001b[0;32m<ipython-input-249-57f6064c2ebb>\u001b[0m in \u001b[0;36m<module>\u001b[0;34m()\u001b[0m\n\u001b[0;32m----> 1\u001b[0;31m \u001b[0;34m(\u001b[0m\u001b[0;36m3\u001b[0m\u001b[0;34m*\u001b[0m \u001b[0mlist1\u001b[0m\u001b[0;34m)\u001b[0m\u001b[0;34m/\u001b[0m\u001b[0;36m3\u001b[0m  \u001b[0;31m#this will give an error\u001b[0m\u001b[0;34m\u001b[0m\u001b[0;34m\u001b[0m\u001b[0m\n\u001b[0m\u001b[1;32m      2\u001b[0m \u001b[0;31m#not valid statement,\u001b[0m\u001b[0;34m\u001b[0m\u001b[0;34m\u001b[0m\u001b[0;34m\u001b[0m\u001b[0m\n",
            "\u001b[0;31mTypeError\u001b[0m: unsupported operand type(s) for /: 'list' and 'int'"
          ]
        }
      ]
    },
    {
      "cell_type": "code",
      "source": [
        "#append method for lists\n",
        "list1.append(\"a\") #will add \"a\" at the end of the list\n",
        "list1.append( [ 3, \"9\"] ) # you can append any datatype object, try with int,str,float etc by yourself "
      ],
      "metadata": {
        "id": "rcnMVWQ6fQ2c"
      },
      "execution_count": 250,
      "outputs": []
    },
    {
      "cell_type": "code",
      "source": [
        "list1"
      ],
      "metadata": {
        "colab": {
          "base_uri": "https://localhost:8080/"
        },
        "id": "zJBkVW8qjwgQ",
        "outputId": "0e62823a-6f02-412a-ec78-1598338acbc2"
      },
      "execution_count": 251,
      "outputs": [
        {
          "output_type": "execute_result",
          "data": {
            "text/plain": [
              "['1',\n",
              " 3,\n",
              " 'a',\n",
              " '1223829382y3827',\n",
              " 0.002,\n",
              " 'vv',\n",
              " '333',\n",
              " 333,\n",
              " '333',\n",
              " 333,\n",
              " 'a',\n",
              " [3, '9']]"
            ]
          },
          "metadata": {},
          "execution_count": 251
        }
      ]
    },
    {
      "cell_type": "code",
      "source": [
        "#few methods of list that are handy\n",
        "'''\n",
        "1) append() - takes one input, that input is added to the end of the list\n",
        "2) pop() - takes index position as an input, removes the object from memory at that index and returns the object, If no index given, it will remove the object at -1 index (last object in list)\n",
        "3) index - takes one input and returns the index of the input in given array\n",
        "'''\n",
        "#read more here - https://www.w3schools.com/python/python_ref_list.asp\n",
        "\n",
        "\n",
        "list1.index(333)"
      ],
      "metadata": {
        "id": "f48AjotU7h0u",
        "colab": {
          "base_uri": "https://localhost:8080/"
        },
        "outputId": "48077961-ce60-4630-e285-f08887ccba6c"
      },
      "execution_count": 252,
      "outputs": [
        {
          "output_type": "execute_result",
          "data": {
            "text/plain": [
              "7"
            ]
          },
          "metadata": {},
          "execution_count": 252
        }
      ]
    },
    {
      "cell_type": "code",
      "source": [
        "list1"
      ],
      "metadata": {
        "colab": {
          "base_uri": "https://localhost:8080/"
        },
        "id": "44EBCZ3xkVgr",
        "outputId": "62d286ff-3013-4b84-be22-7525d30d2f1d"
      },
      "execution_count": 253,
      "outputs": [
        {
          "output_type": "execute_result",
          "data": {
            "text/plain": [
              "['1',\n",
              " 3,\n",
              " 'a',\n",
              " '1223829382y3827',\n",
              " 0.002,\n",
              " 'vv',\n",
              " '333',\n",
              " 333,\n",
              " '333',\n",
              " 333,\n",
              " 'a',\n",
              " [3, '9']]"
            ]
          },
          "metadata": {},
          "execution_count": 253
        }
      ]
    },
    {
      "cell_type": "code",
      "source": [
        "animals = ['cat', 'dog', 'monkey']"
      ],
      "metadata": {
        "id": "9Xjz4-q9mFOO"
      },
      "execution_count": 254,
      "outputs": []
    },
    {
      "cell_type": "code",
      "source": [
        "#print values in the list.. \n",
        "\n",
        "any_random_name = animals.pop() #removes 'monkey' from list and stored it in variable `any_random_name`\n",
        "animals"
      ],
      "metadata": {
        "colab": {
          "base_uri": "https://localhost:8080/"
        },
        "id": "dc_-Lw5UAq0O",
        "outputId": "997fca39-64a7-4bea-be4a-0e67cbcd536b"
      },
      "execution_count": 255,
      "outputs": [
        {
          "output_type": "execute_result",
          "data": {
            "text/plain": [
              "['cat', 'dog']"
            ]
          },
          "metadata": {},
          "execution_count": 255
        }
      ]
    },
    {
      "cell_type": "code",
      "source": [
        "###Tuple and List are very similar datastructures. Only difference is that tuple is immutable (you cant edit it after defining)\n",
        "\n",
        "animals = ('cat', 'dog', 'monkey') \n",
        "animals[1] = \"elephant\" #will give error because tuple is immutable.. "
      ],
      "metadata": {
        "id": "wnOK8xJju5od",
        "colab": {
          "base_uri": "https://localhost:8080/",
          "height": 207
        },
        "outputId": "34667ecd-c55e-4df2-def3-bc2c2c50ee5c"
      },
      "execution_count": 256,
      "outputs": [
        {
          "output_type": "error",
          "ename": "TypeError",
          "evalue": "ignored",
          "traceback": [
            "\u001b[0;31m---------------------------------------------------------------------------\u001b[0m",
            "\u001b[0;31mTypeError\u001b[0m                                 Traceback (most recent call last)",
            "\u001b[0;32m<ipython-input-256-31cc350debcc>\u001b[0m in \u001b[0;36m<module>\u001b[0;34m()\u001b[0m\n\u001b[1;32m      2\u001b[0m \u001b[0;34m\u001b[0m\u001b[0m\n\u001b[1;32m      3\u001b[0m \u001b[0manimals\u001b[0m \u001b[0;34m=\u001b[0m \u001b[0;34m(\u001b[0m\u001b[0;34m'cat'\u001b[0m\u001b[0;34m,\u001b[0m \u001b[0;34m'dog'\u001b[0m\u001b[0;34m,\u001b[0m \u001b[0;34m'monkey'\u001b[0m\u001b[0;34m)\u001b[0m\u001b[0;34m\u001b[0m\u001b[0;34m\u001b[0m\u001b[0m\n\u001b[0;32m----> 4\u001b[0;31m \u001b[0manimals\u001b[0m\u001b[0;34m[\u001b[0m\u001b[0;36m1\u001b[0m\u001b[0;34m]\u001b[0m \u001b[0;34m=\u001b[0m \u001b[0;34m\"elephant\"\u001b[0m\u001b[0;34m\u001b[0m\u001b[0;34m\u001b[0m\u001b[0m\n\u001b[0m",
            "\u001b[0;31mTypeError\u001b[0m: 'tuple' object does not support item assignment"
          ]
        }
      ]
    },
    {
      "cell_type": "markdown",
      "source": [
        "#Dictionary\n",
        "\n",
        "\n",
        "Very useful datatype, keys are in left, values at right..\n",
        "\n",
        "key-value pair, keys need to be unique"
      ],
      "metadata": {
        "id": "dOzff7lI8Lot"
      }
    },
    {
      "cell_type": "code",
      "source": [
        "player_price = [17,13,19] #price in lakhs\n",
        "player_name = [\"sechin trendulkar\",\"gautam gembhir\",\"M doni\"] \n",
        "\n",
        "player_price[player_name.index(\"gautam gembhir\")] "
      ],
      "metadata": {
        "colab": {
          "base_uri": "https://localhost:8080/"
        },
        "id": "v-dWzmlJAYqN",
        "outputId": "816d14b2-21a7-42d6-cfa1-de81c4dcc1a2"
      },
      "execution_count": 257,
      "outputs": [
        {
          "output_type": "execute_result",
          "data": {
            "text/plain": [
              "13"
            ]
          },
          "metadata": {},
          "execution_count": 257
        }
      ]
    },
    {
      "cell_type": "code",
      "source": [
        "# but this is pain right?"
      ],
      "metadata": {
        "id": "RoLya4l9BJXU"
      },
      "execution_count": 258,
      "outputs": []
    },
    {
      "cell_type": "code",
      "source": [
        "price_book = {\"sechin trendulkar\": 17}"
      ],
      "metadata": {
        "id": "lw6yKmdqBP8l"
      },
      "execution_count": 259,
      "outputs": []
    },
    {
      "cell_type": "code",
      "source": [
        "\n",
        "price_book[\"gautam gembhir\"] = 13\n",
        "price_book[\"M doni\"] =19\n",
        "\n",
        "dir(price_book)"
      ],
      "metadata": {
        "colab": {
          "base_uri": "https://localhost:8080/"
        },
        "id": "QkjjQvrpBcFB",
        "outputId": "2a9f901f-5f4c-4af0-e45e-802082d4af49"
      },
      "execution_count": 260,
      "outputs": [
        {
          "output_type": "execute_result",
          "data": {
            "text/plain": [
              "['__class__',\n",
              " '__contains__',\n",
              " '__delattr__',\n",
              " '__delitem__',\n",
              " '__dir__',\n",
              " '__doc__',\n",
              " '__eq__',\n",
              " '__format__',\n",
              " '__ge__',\n",
              " '__getattribute__',\n",
              " '__getitem__',\n",
              " '__gt__',\n",
              " '__hash__',\n",
              " '__init__',\n",
              " '__init_subclass__',\n",
              " '__iter__',\n",
              " '__le__',\n",
              " '__len__',\n",
              " '__lt__',\n",
              " '__ne__',\n",
              " '__new__',\n",
              " '__reduce__',\n",
              " '__reduce_ex__',\n",
              " '__repr__',\n",
              " '__setattr__',\n",
              " '__setitem__',\n",
              " '__sizeof__',\n",
              " '__str__',\n",
              " '__subclasshook__',\n",
              " 'clear',\n",
              " 'copy',\n",
              " 'fromkeys',\n",
              " 'get',\n",
              " 'items',\n",
              " 'keys',\n",
              " 'pop',\n",
              " 'popitem',\n",
              " 'setdefault',\n",
              " 'update',\n",
              " 'values']"
            ]
          },
          "metadata": {},
          "execution_count": 260
        }
      ]
    },
    {
      "cell_type": "code",
      "source": [
        "#iteration in dictionary\n"
      ],
      "metadata": {
        "id": "6v6OOs5LB1nB"
      },
      "execution_count": 261,
      "outputs": []
    },
    {
      "cell_type": "markdown",
      "source": [
        "#If elif else"
      ],
      "metadata": {
        "id": "CodoPNElB8vY"
      }
    },
    {
      "cell_type": "markdown",
      "source": [
        "\n",
        "\n",
        "```\n",
        "if x:\n",
        "    if y:\n",
        "        code-statement\n",
        "elif z:\n",
        "    another-code-statement\n",
        "else:\n",
        "    another-code-statement\n",
        "```\n",
        "\n"
      ],
      "metadata": {
        "id": "fYD9ebx7B7Dp"
      }
    },
    {
      "cell_type": "code",
      "source": [
        "if True:\n",
        "  print(\"OMG this is true!\")"
      ],
      "metadata": {
        "id": "Pee3FOhqCHqf",
        "colab": {
          "base_uri": "https://localhost:8080/"
        },
        "outputId": "efb89098-da48-463a-f6d5-6f77283ab823"
      },
      "execution_count": 262,
      "outputs": [
        {
          "output_type": "stream",
          "name": "stdout",
          "text": [
            "OMG this is true!\n"
          ]
        }
      ]
    },
    {
      "cell_type": "code",
      "source": [
        "if  False:\n",
        "  print(\"OMG this is false\")"
      ],
      "metadata": {
        "id": "uA5WyVndCHzT"
      },
      "execution_count": 263,
      "outputs": []
    },
    {
      "cell_type": "code",
      "source": [
        "if 1:\n",
        "  print(\"OMG this is 1\")"
      ],
      "metadata": {
        "id": "anM83veqCH1p",
        "colab": {
          "base_uri": "https://localhost:8080/"
        },
        "outputId": "606f5df9-fa45-44a7-eb05-d5a21bd49414"
      },
      "execution_count": 264,
      "outputs": [
        {
          "output_type": "stream",
          "name": "stdout",
          "text": [
            "OMG this is 1\n"
          ]
        }
      ]
    },
    {
      "cell_type": "code",
      "source": [
        "if not 0:\n",
        "  print(\"OMG this is `not 0`\")"
      ],
      "metadata": {
        "colab": {
          "base_uri": "https://localhost:8080/"
        },
        "id": "dXBRhL2xCH3T",
        "outputId": "fd2338e7-157c-4a7b-f0c2-d092c163dc7d"
      },
      "execution_count": 265,
      "outputs": [
        {
          "output_type": "stream",
          "name": "stdout",
          "text": [
            "OMG this is `not 0`\n"
          ]
        }
      ]
    },
    {
      "cell_type": "code",
      "source": [
        "if -1:\n",
        "  print(\"true condition print hoga\") #guess kro bhai \n",
        "else:\n",
        "  print(\"false condition print hoga\")"
      ],
      "metadata": {
        "id": "cjaQ1cfMCH6r",
        "colab": {
          "base_uri": "https://localhost:8080/"
        },
        "outputId": "679df577-0a3c-4cc3-b3b9-d68a3f3522cb"
      },
      "execution_count": 266,
      "outputs": [
        {
          "output_type": "stream",
          "name": "stdout",
          "text": [
            "true condition print hoga\n"
          ]
        }
      ]
    },
    {
      "cell_type": "code",
      "source": [
        "x = True \n",
        "\n",
        "if x:\n",
        "    print('x was True!')\n",
        "else:\n",
        "    print('I will be printed in any case where x is not true')"
      ],
      "metadata": {
        "id": "x9V5mkn2Cgwe",
        "colab": {
          "base_uri": "https://localhost:8080/"
        },
        "outputId": "6e60eecc-5be1-4238-955a-2667a1ad1124"
      },
      "execution_count": 267,
      "outputs": [
        {
          "output_type": "stream",
          "name": "stdout",
          "text": [
            "x was True!\n"
          ]
        }
      ]
    },
    {
      "cell_type": "code",
      "source": [
        "var = \"a\"\n",
        "\n",
        "if var ==\"a\":\n",
        "  print(\"var is a\")\n",
        "elif var == \"b\":\n",
        "  print(\"var is b\")\n",
        "else: \n",
        "  print(\"Var is not a nor b\")"
      ],
      "metadata": {
        "id": "J038bgclnMMy",
        "colab": {
          "base_uri": "https://localhost:8080/"
        },
        "outputId": "63f83e73-19b4-4b67-c51d-4230d0836b91"
      },
      "execution_count": 268,
      "outputs": [
        {
          "output_type": "stream",
          "name": "stdout",
          "text": [
            "var is a\n"
          ]
        }
      ]
    },
    {
      "cell_type": "markdown",
      "source": [
        "#Loops "
      ],
      "metadata": {
        "id": "rdkFJKVQ_rI0"
      }
    },
    {
      "cell_type": "markdown",
      "source": [
        "#Functions"
      ],
      "metadata": {
        "id": "Urc8VCJQB7yX"
      }
    },
    {
      "cell_type": "code",
      "source": [
        "def identity(input): #this identity function expects one object as an input; returns same thing, does nothing\n",
        "  return input"
      ],
      "metadata": {
        "id": "evJFZZUJ3AUK"
      },
      "execution_count": 269,
      "outputs": []
    },
    {
      "cell_type": "code",
      "source": [
        "z1 = identity(\"something\")\n",
        "print(z1)\n",
        "\n",
        "random_list = [1,2,3.4,\"hello\"]\n",
        "z2 = identity(random_list) #here you can see we have passed a list object to the identity function.\n",
        "print(z2)"
      ],
      "metadata": {
        "colab": {
          "base_uri": "https://localhost:8080/"
        },
        "id": "X3CP9nvS3N_w",
        "outputId": "be3f0289-943c-40b0-88c1-85ed68a38fd2"
      },
      "execution_count": 294,
      "outputs": [
        {
          "output_type": "stream",
          "name": "stdout",
          "text": [
            "something\n",
            "[1, 2, 3.4, 'hello']\n"
          ]
        }
      ]
    },
    {
      "cell_type": "code",
      "source": [
        "def add_numbers(x=0, y=0 ): #in this function by default the input parameters are set to 0.\n",
        "    return x+y"
      ],
      "metadata": {
        "id": "mk0yglBA3VHU"
      },
      "execution_count": 295,
      "outputs": []
    },
    {
      "cell_type": "code",
      "source": [
        "print(type(add_numbers))\n",
        "print(add_numbers)"
      ],
      "metadata": {
        "colab": {
          "base_uri": "https://localhost:8080/"
        },
        "id": "WQXRfhDyosCf",
        "outputId": "8d1771c0-926e-49b0-d7c1-7d105567a4b1"
      },
      "execution_count": 296,
      "outputs": [
        {
          "output_type": "stream",
          "name": "stdout",
          "text": [
            "<class 'function'>\n",
            "<function add_numbers at 0x7f99d2253dd0>\n"
          ]
        }
      ]
    },
    {
      "cell_type": "code",
      "source": [
        "print(add_numbers(x=1,y=24))\n",
        "print(add_numbers())"
      ],
      "metadata": {
        "colab": {
          "base_uri": "https://localhost:8080/"
        },
        "id": "7QL0GGcx4379",
        "outputId": "0f72e519-db24-404d-ea32-9090b6214879"
      },
      "execution_count": 297,
      "outputs": [
        {
          "output_type": "stream",
          "name": "stdout",
          "text": [
            "25\n",
            "0\n"
          ]
        }
      ]
    },
    {
      "cell_type": "code",
      "source": [
        "new_func = add_numbers\n",
        "\n",
        "new_func(x=1,y=24)"
      ],
      "metadata": {
        "colab": {
          "base_uri": "https://localhost:8080/"
        },
        "id": "i51D1Kn846hF",
        "outputId": "dfd75997-ddf4-403f-ffe8-4feae3ed2686"
      },
      "execution_count": 298,
      "outputs": [
        {
          "output_type": "execute_result",
          "data": {
            "text/plain": [
              "25"
            ]
          },
          "metadata": {},
          "execution_count": 298
        }
      ]
    },
    {
      "cell_type": "code",
      "source": [
        "id(new_func) == id(add_numbers)\n"
      ],
      "metadata": {
        "colab": {
          "base_uri": "https://localhost:8080/"
        },
        "id": "sYdo8MBc5hmR",
        "outputId": "8515a31f-d115-4b20-ffd7-8ee3ee74747b"
      },
      "execution_count": 299,
      "outputs": [
        {
          "output_type": "execute_result",
          "data": {
            "text/plain": [
              "True"
            ]
          },
          "metadata": {},
          "execution_count": 299
        }
      ]
    },
    {
      "cell_type": "code",
      "source": [
        ""
      ],
      "metadata": {
        "id": "NOwlLsmk_WjP"
      },
      "execution_count": 299,
      "outputs": []
    },
    {
      "cell_type": "code",
      "source": [
        "#what if there are multiple inputs,add 5 numbers "
      ],
      "metadata": {
        "id": "kwvFspRA5jFt"
      },
      "execution_count": 300,
      "outputs": []
    },
    {
      "cell_type": "code",
      "source": [
        "def add_n_numbers(*args): #non keyword argument \n",
        "  sum=0\n",
        "  print(args, type(args))\n",
        "  for i in args:\n",
        "    sum = sum+i\n",
        "  return sum"
      ],
      "metadata": {
        "id": "9QfkzlZz5kG6"
      },
      "execution_count": 301,
      "outputs": []
    },
    {
      "cell_type": "code",
      "source": [
        "def add_n_numbers(*another_var):\n",
        "  sum=0\n",
        "  for i in another_var:\n",
        "    sum = sum+i\n",
        "  return sum"
      ],
      "metadata": {
        "id": "R0dNl3is8u5L"
      },
      "execution_count": 302,
      "outputs": []
    },
    {
      "cell_type": "code",
      "source": [
        "add_n_numbers(1,2,33,5,6,67,4)"
      ],
      "metadata": {
        "colab": {
          "base_uri": "https://localhost:8080/"
        },
        "id": "MRVd6HOc81Nu",
        "outputId": "f22be0dd-1c4f-40a7-9c10-19412238f17e"
      },
      "execution_count": 303,
      "outputs": [
        {
          "output_type": "execute_result",
          "data": {
            "text/plain": [
              "118"
            ]
          },
          "metadata": {},
          "execution_count": 303
        }
      ]
    },
    {
      "cell_type": "code",
      "source": [
        "visited_places = [\"delhi\", \"chennai\", \"shillong\", \"Bits Pilani K K Birla Goa Campus\"]\n",
        "\n",
        "def last_visited(*args):\n",
        "  print(args)\n",
        "  return args[-1]"
      ],
      "metadata": {
        "id": "zuFWGdRc9NGy"
      },
      "execution_count": 304,
      "outputs": []
    },
    {
      "cell_type": "code",
      "source": [
        "last_visited(*visited_places) #using a star before a list unpacks the objects in the list"
      ],
      "metadata": {
        "colab": {
          "base_uri": "https://localhost:8080/",
          "height": 54
        },
        "id": "cb-RRl2n-OTo",
        "outputId": "b4b497df-6f3e-4243-a748-0aff506a6ef2"
      },
      "execution_count": 305,
      "outputs": [
        {
          "output_type": "stream",
          "name": "stdout",
          "text": [
            "('delhi', 'chennai', 'shillong', 'Bits Pilani K K Birla Goa Campus')\n"
          ]
        },
        {
          "output_type": "execute_result",
          "data": {
            "text/plain": [
              "'Bits Pilani K K Birla Goa Campus'"
            ],
            "application/vnd.google.colaboratory.intrinsic+json": {
              "type": "string"
            }
          },
          "metadata": {},
          "execution_count": 305
        }
      ]
    },
    {
      "cell_type": "code",
      "source": [
        "def full_name(**kwargs):\n",
        "  print(kwargs)\n",
        "  return kwargs[\"name\"]+kwargs[\"middle_name\"]+ kwargs[\"last_name\"]"
      ],
      "metadata": {
        "id": "UfWgWe3g-Q-F"
      },
      "execution_count": 306,
      "outputs": []
    },
    {
      "cell_type": "code",
      "source": [
        "full_name(name = \"ram \", last_name=\"patil\",middle_name=\"shyam \")"
      ],
      "metadata": {
        "colab": {
          "base_uri": "https://localhost:8080/",
          "height": 54
        },
        "id": "SXbKn0Xs-m7D",
        "outputId": "eccfee9c-ca98-47a1-8e9c-3b6fb6b311dc"
      },
      "execution_count": 307,
      "outputs": [
        {
          "output_type": "stream",
          "name": "stdout",
          "text": [
            "{'name': 'ram ', 'last_name': 'patil', 'middle_name': 'shyam '}\n"
          ]
        },
        {
          "output_type": "execute_result",
          "data": {
            "text/plain": [
              "'ram shyam patil'"
            ],
            "application/vnd.google.colaboratory.intrinsic+json": {
              "type": "string"
            }
          },
          "metadata": {},
          "execution_count": 307
        }
      ]
    },
    {
      "cell_type": "code",
      "source": [
        "#list comprehension and lambda functions\n",
        "\n",
        "#List of alphabets- normal way..\n",
        "\n",
        "alphabets = []\n",
        "for i in range(65,91):\n",
        "  alphabets.append(chr(i))\n",
        "alphabets\n",
        "\n"
      ],
      "metadata": {
        "id": "5oXgr6O0_sJA",
        "colab": {
          "base_uri": "https://localhost:8080/"
        },
        "outputId": "879c997c-ea8d-42a4-acd2-c2630891f613"
      },
      "execution_count": 308,
      "outputs": [
        {
          "output_type": "execute_result",
          "data": {
            "text/plain": [
              "['A',\n",
              " 'B',\n",
              " 'C',\n",
              " 'D',\n",
              " 'E',\n",
              " 'F',\n",
              " 'G',\n",
              " 'H',\n",
              " 'I',\n",
              " 'J',\n",
              " 'K',\n",
              " 'L',\n",
              " 'M',\n",
              " 'N',\n",
              " 'O',\n",
              " 'P',\n",
              " 'Q',\n",
              " 'R',\n",
              " 'S',\n",
              " 'T',\n",
              " 'U',\n",
              " 'V',\n",
              " 'W',\n",
              " 'X',\n",
              " 'Y',\n",
              " 'Z']"
            ]
          },
          "metadata": {},
          "execution_count": 308
        }
      ]
    },
    {
      "cell_type": "code",
      "source": [
        "# using list comprehension \n",
        "\n",
        "alphabets = [chr(i) for i in range(65,91)]\n",
        "alphabets"
      ],
      "metadata": {
        "colab": {
          "base_uri": "https://localhost:8080/"
        },
        "id": "1wH_K3GLkEPE",
        "outputId": "e96850b7-77c0-4b09-8007-eae06a6dec87"
      },
      "execution_count": 309,
      "outputs": [
        {
          "output_type": "execute_result",
          "data": {
            "text/plain": [
              "['A',\n",
              " 'B',\n",
              " 'C',\n",
              " 'D',\n",
              " 'E',\n",
              " 'F',\n",
              " 'G',\n",
              " 'H',\n",
              " 'I',\n",
              " 'J',\n",
              " 'K',\n",
              " 'L',\n",
              " 'M',\n",
              " 'N',\n",
              " 'O',\n",
              " 'P',\n",
              " 'Q',\n",
              " 'R',\n",
              " 'S',\n",
              " 'T',\n",
              " 'U',\n",
              " 'V',\n",
              " 'W',\n",
              " 'X',\n",
              " 'Y',\n",
              " 'Z']"
            ]
          },
          "metadata": {},
          "execution_count": 309
        }
      ]
    },
    {
      "cell_type": "code",
      "source": [
        "my_func = lambda x,y : x**y\n",
        "my_func(3,4)"
      ],
      "metadata": {
        "colab": {
          "base_uri": "https://localhost:8080/"
        },
        "id": "kZ7TWhGUkcx6",
        "outputId": "04142e2c-4e43-426c-ba58-95f7aee66224"
      },
      "execution_count": 310,
      "outputs": [
        {
          "output_type": "execute_result",
          "data": {
            "text/plain": [
              "81"
            ]
          },
          "metadata": {},
          "execution_count": 310
        }
      ]
    },
    {
      "cell_type": "markdown",
      "source": [
        "Numpy is the core library for scientific computing in Python. It provides a high-performance multidimensional array object, and tools for working with these arrays\n",
        "\n",
        "Numpy is already installed in the google colab; so we dont have to install it seperately ."
      ],
      "metadata": {
        "id": "3JENIrxJktBg"
      }
    },
    {
      "cell_type": "code",
      "source": [
        "import numpy \n",
        "import numpy as np\n"
      ],
      "metadata": {
        "id": "uUvZkUi-shhv"
      },
      "execution_count": 326,
      "outputs": []
    },
    {
      "cell_type": "code",
      "source": [
        "a = numpy.array([1, 2, 3])  # Create a rank 1 array\n",
        "print(a)\n",
        "a[0] = 5                 # Change an element of the array\n",
        "print(a)                  "
      ],
      "metadata": {
        "colab": {
          "base_uri": "https://localhost:8080/"
        },
        "id": "KrZp5VoLshjJ",
        "outputId": "ab32012f-294c-4f74-d5d8-f41f8097d009"
      },
      "execution_count": 327,
      "outputs": [
        {
          "output_type": "stream",
          "name": "stdout",
          "text": [
            "[1 2 3]\n",
            "[5 2 3]\n"
          ]
        }
      ]
    },
    {
      "cell_type": "code",
      "source": [
        "type(a)"
      ],
      "metadata": {
        "id": "ylZyv8i1shmp",
        "colab": {
          "base_uri": "https://localhost:8080/"
        },
        "outputId": "cf0356d8-2364-4083-8806-5a6a0a120fd0"
      },
      "execution_count": 328,
      "outputs": [
        {
          "output_type": "execute_result",
          "data": {
            "text/plain": [
              "numpy.ndarray"
            ]
          },
          "metadata": {},
          "execution_count": 328
        }
      ]
    },
    {
      "cell_type": "code",
      "source": [
        "b = numpy.array([[1,2,3],[4,5,6]])   # Create a rank 2 array\n",
        "print(b)"
      ],
      "metadata": {
        "id": "UJeecqe0tU1l",
        "colab": {
          "base_uri": "https://localhost:8080/"
        },
        "outputId": "e3a2ed37-04d7-4a55-f84c-a589b30ca60f"
      },
      "execution_count": 329,
      "outputs": [
        {
          "output_type": "stream",
          "name": "stdout",
          "text": [
            "[[1 2 3]\n",
            " [4 5 6]]\n"
          ]
        }
      ]
    },
    {
      "cell_type": "code",
      "source": [
        "c = np.zeros((2,2))  # Create an array of all zeros\n",
        "print(c)"
      ],
      "metadata": {
        "colab": {
          "base_uri": "https://localhost:8080/"
        },
        "id": "Ut04aWMktWrd",
        "outputId": "b0235c64-5bef-4773-aa4b-92816c1820ea"
      },
      "execution_count": 330,
      "outputs": [
        {
          "output_type": "stream",
          "name": "stdout",
          "text": [
            "[[0. 0.]\n",
            " [0. 0.]]\n"
          ]
        }
      ]
    },
    {
      "cell_type": "code",
      "source": [
        "c+2 #2 is added to every element\n"
      ],
      "metadata": {
        "colab": {
          "base_uri": "https://localhost:8080/"
        },
        "id": "aYeWAtZ6tjwO",
        "outputId": "adbbef16-8880-45bd-86c0-7aa4901985d6"
      },
      "execution_count": 331,
      "outputs": [
        {
          "output_type": "execute_result",
          "data": {
            "text/plain": [
              "array([[2., 2.],\n",
              "       [2., 2.]])"
            ]
          },
          "metadata": {},
          "execution_count": 331
        }
      ]
    },
    {
      "cell_type": "code",
      "source": [
        "print(a)\n",
        "print(a+1)"
      ],
      "metadata": {
        "colab": {
          "base_uri": "https://localhost:8080/"
        },
        "id": "TA4HeN4ZuMev",
        "outputId": "9cc76664-7658-4a24-9827-d2442d3f3d07"
      },
      "execution_count": 332,
      "outputs": [
        {
          "output_type": "stream",
          "name": "stdout",
          "text": [
            "[5 2 3]\n",
            "[6 3 4]\n"
          ]
        }
      ]
    },
    {
      "cell_type": "code",
      "source": [
        "d = [1,2,3] \n",
        "\n",
        "d+1"
      ],
      "metadata": {
        "colab": {
          "base_uri": "https://localhost:8080/",
          "height": 207
        },
        "id": "60aBitRkuT_q",
        "outputId": "1fc7190c-f479-433f-8ea2-5cd1ac314176"
      },
      "execution_count": 333,
      "outputs": [
        {
          "output_type": "error",
          "ename": "TypeError",
          "evalue": "ignored",
          "traceback": [
            "\u001b[0;31m---------------------------------------------------------------------------\u001b[0m",
            "\u001b[0;31mTypeError\u001b[0m                                 Traceback (most recent call last)",
            "\u001b[0;32m<ipython-input-333-cc31c886cf22>\u001b[0m in \u001b[0;36m<module>\u001b[0;34m()\u001b[0m\n\u001b[1;32m      1\u001b[0m \u001b[0md\u001b[0m \u001b[0;34m=\u001b[0m \u001b[0;34m[\u001b[0m\u001b[0;36m1\u001b[0m\u001b[0;34m,\u001b[0m\u001b[0;36m2\u001b[0m\u001b[0;34m,\u001b[0m\u001b[0;36m3\u001b[0m\u001b[0;34m]\u001b[0m\u001b[0;34m\u001b[0m\u001b[0;34m\u001b[0m\u001b[0m\n\u001b[1;32m      2\u001b[0m \u001b[0;34m\u001b[0m\u001b[0m\n\u001b[0;32m----> 3\u001b[0;31m \u001b[0md\u001b[0m\u001b[0;34m+\u001b[0m\u001b[0;36m1\u001b[0m\u001b[0;34m\u001b[0m\u001b[0;34m\u001b[0m\u001b[0m\n\u001b[0m",
            "\u001b[0;31mTypeError\u001b[0m: can only concatenate list (not \"int\") to list"
          ]
        }
      ]
    },
    {
      "cell_type": "code",
      "source": [
        "d = np.eye(2)        # Create a 2x2 identity matrix\n",
        "print(d)"
      ],
      "metadata": {
        "id": "TM6-e--rvPfE",
        "colab": {
          "base_uri": "https://localhost:8080/"
        },
        "outputId": "eb2e949d-6fa2-4720-b736-e69e14dce4db"
      },
      "execution_count": 334,
      "outputs": [
        {
          "output_type": "stream",
          "name": "stdout",
          "text": [
            "[[1. 0.]\n",
            " [0. 1.]]\n"
          ]
        }
      ]
    },
    {
      "cell_type": "code",
      "source": [
        "#index slicing in numpy\n",
        "import numpy as np\n",
        "\n",
        "# Create the following rank 2 array with shape (3, 4)\n",
        "# [[ 1  2  3  4]\n",
        "#  [ 5  6  7  8]\n",
        "#  [ 9 10 11 12]]\n",
        "a = np.array([[1,2,3,4], [5,6,7,8], [9,10,11,12]])"
      ],
      "metadata": {
        "id": "m5rMQg3XKxTB"
      },
      "execution_count": 335,
      "outputs": []
    },
    {
      "cell_type": "code",
      "source": [
        "a*3 + 2"
      ],
      "metadata": {
        "colab": {
          "base_uri": "https://localhost:8080/"
        },
        "id": "rHMIyY2JAIHc",
        "outputId": "743decdf-7b71-48f5-bc75-466c7e5b1fc8"
      },
      "execution_count": 337,
      "outputs": [
        {
          "output_type": "execute_result",
          "data": {
            "text/plain": [
              "array([[ 5,  8, 11, 14],\n",
              "       [17, 20, 23, 26],\n",
              "       [29, 32, 35, 38]])"
            ]
          },
          "metadata": {},
          "execution_count": 337
        }
      ]
    },
    {
      "cell_type": "code",
      "source": [
        ""
      ],
      "metadata": {
        "id": "51pWiPbwAJfg"
      },
      "execution_count": null,
      "outputs": []
    }
  ]
}