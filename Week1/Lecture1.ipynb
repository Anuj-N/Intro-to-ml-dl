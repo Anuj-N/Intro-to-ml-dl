{
  "nbformat": 4,
  "nbformat_minor": 0,
  "metadata": {
    "colab": {
      "name": "Hello world.ipynb",
      "provenance": [],
      "collapsed_sections": [],
      "authorship_tag": "ABX9TyM0gdVsGrKA6nObayrBe0Nq",
      "include_colab_link": true
    },
    "kernelspec": {
      "name": "python3",
      "display_name": "Python 3"
    },
    "language_info": {
      "name": "python"
    }
  },
  "cells": [
    {
      "cell_type": "markdown",
      "metadata": {
        "id": "view-in-github",
        "colab_type": "text"
      },
      "source": [
        "<a href=\"https://colab.research.google.com/github/abhi-glitchhg/Intro-to-ml-dl/blob/main/Week1/Lecture1.ipynb\" target=\"_parent\"><img src=\"https://colab.research.google.com/assets/colab-badge.svg\" alt=\"Open In Colab\"/></a>"
      ]
    },
    {
      "cell_type": "markdown",
      "source": [
        "Note: - In the first lecture, strings and lists were covered. "
      ],
      "metadata": {
        "id": "ADZ8-Irr_3Is"
      }
    },
    {
      "cell_type": "markdown",
      "source": [
        "#Welcome\n",
        " \n",
        "In this notebook, we will be covering basic datatypes available in python3"
      ],
      "metadata": {
        "id": "QCOdq6j8qYZw"
      }
    },
    {
      "cell_type": "code",
      "source": [
        "!python --version"
      ],
      "metadata": {
        "colab": {
          "base_uri": "https://localhost:8080/"
        },
        "id": "HTLjRHYzr_TY",
        "outputId": "fce12140-618b-4f90-ac80-51e2fc34a22d"
      },
      "execution_count": null,
      "outputs": [
        {
          "output_type": "stream",
          "name": "stdout",
          "text": [
            "Python 3.7.12\n"
          ]
        }
      ]
    },
    {
      "cell_type": "code",
      "execution_count": null,
      "metadata": {
        "colab": {
          "base_uri": "https://localhost:8080/"
        },
        "id": "Dfy6M4vqkAkF",
        "outputId": "4df50418-5c57-4119-a77e-ee087c2ca58f"
      },
      "outputs": [
        {
          "output_type": "stream",
          "name": "stdout",
          "text": [
            "Hello world\n"
          ]
        }
      ],
      "source": [
        "print(\"Hello world\")"
      ]
    },
    {
      "cell_type": "code",
      "source": [
        "print(\"Any random stuff here!\")\n",
        "print(2)"
      ],
      "metadata": {
        "colab": {
          "base_uri": "https://localhost:8080/"
        },
        "id": "rt2v0ddUkdV3",
        "outputId": "99184cf1-4907-4ce2-8ab1-0013b231aac1"
      },
      "execution_count": null,
      "outputs": [
        {
          "output_type": "stream",
          "name": "stdout",
          "text": [
            "Any random stuff here!\n",
            "2\n"
          ]
        }
      ]
    },
    {
      "cell_type": "markdown",
      "source": [
        "###Rules for Defining Python Variables\n",
        "\n",
        "*   A variable name must start with a letter or the underscore character\n",
        "*   A variable name cannot start with a number\n",
        "*   A variable name can only contain alpha-numeric characters and underscores (A-z, 0-9, and _ )\n",
        "*   Variable names are case-sensitive. \n"
      ],
      "metadata": {
        "id": "Dp036DV9Uhbk"
      }
    },
    {
      "cell_type": "code",
      "source": [
        "#following are valid ways of defining variables\n",
        "variable1 = 5\n",
        "varia_ble2 = \"python\"\n",
        "___var____ = \"var\"\n",
        "age = 2"
      ],
      "metadata": {
        "id": "tbeVH2QyltIM"
      },
      "execution_count": null,
      "outputs": []
    },
    {
      "cell_type": "code",
      "source": [
        "#invalid ways.. (here ipython also marks it red indicating this is error..)\n",
        "1sas = \"error\"\n",
        "es@4 = 0 \n"
      ],
      "metadata": {
        "id": "aUOalWNBBGA5",
        "colab": {
          "base_uri": "https://localhost:8080/",
          "height": 134
        },
        "outputId": "e6aa7601-349b-44e3-b707-add056c7c78d"
      },
      "execution_count": null,
      "outputs": [
        {
          "output_type": "error",
          "ename": "SyntaxError",
          "evalue": "ignored",
          "traceback": [
            "\u001b[0;36m  File \u001b[0;32m\"<ipython-input-196-b23c67df7f41>\"\u001b[0;36m, line \u001b[0;32m2\u001b[0m\n\u001b[0;31m    1sas = \"error\"\u001b[0m\n\u001b[0m       ^\u001b[0m\n\u001b[0;31mSyntaxError\u001b[0m\u001b[0;31m:\u001b[0m invalid syntax\n"
          ]
        }
      ]
    },
    {
      "cell_type": "code",
      "source": [
        "num1 = 3 #assignment operation\n",
        "num2 = 4 \n",
        "\n",
        "#Booleans\n",
        "\n",
        "print(num1==3) # == is a comparison operator, if RHS and LHS are equal; it returns boolean value `True`, else returns false\n",
        "print(num1>num2) \n",
        "print(num1<=num2) \n",
        "\n",
        "\n",
        "\n",
        "print(\"difference between num1 and num2 is \", num2-num1)\n",
        "print(\"sum of num1 and num2 is \", num1+num2)\n",
        "print(\"multiplication of num1 and num2 is \", num1*num2)"
      ],
      "metadata": {
        "colab": {
          "base_uri": "https://localhost:8080/"
        },
        "id": "oRk1niR5s2ZY",
        "outputId": "252e6322-785f-4f22-f271-7b00a69f2ef9"
      },
      "execution_count": null,
      "outputs": [
        {
          "output_type": "stream",
          "name": "stdout",
          "text": [
            "True\n",
            "False\n",
            "True\n",
            "difference between num1 and num2 is  1\n",
            "sum of num1 and num2 is  7\n",
            "multiplication of num1 and num2 is  12\n"
          ]
        }
      ]
    },
    {
      "cell_type": "code",
      "source": [
        "id(3) == id(num1)"
      ],
      "metadata": {
        "colab": {
          "base_uri": "https://localhost:8080/"
        },
        "id": "U9lCyxwJLJbH",
        "outputId": "6b946967-e230-43cb-b242-3bfed3e41231"
      },
      "execution_count": null,
      "outputs": [
        {
          "output_type": "execute_result",
          "data": {
            "text/plain": [
              "True"
            ]
          },
          "metadata": {},
          "execution_count": 198
        }
      ]
    },
    {
      "cell_type": "code",
      "source": [
        "print(9/2) # `/` is  normal division, output will be 4.5\n",
        "print(9//2) #integer division ; only integer part of the division will be returned\n",
        "print(9%2) # calculates remainder, here = 1 \n",
        "print(9**2) #power operation 9^2 = 81;\n",
        "print(9**3) #power operation, 9^3 = 729"
      ],
      "metadata": {
        "colab": {
          "base_uri": "https://localhost:8080/"
        },
        "id": "VzFPHLuJvs8v",
        "outputId": "e519f235-ef4e-4812-d89d-2304a195ae82"
      },
      "execution_count": null,
      "outputs": [
        {
          "output_type": "stream",
          "name": "stdout",
          "text": [
            "4.5\n",
            "4\n",
            "1\n",
            "81\n",
            "729\n"
          ]
        }
      ]
    },
    {
      "cell_type": "markdown",
      "source": [
        "#strings\n",
        "\n",
        "## Operations on Strings -\n",
        "Since strings are immutable, we can't change the value stored in a string\n",
        "\n",
        "We can concatenate ('join') multiple strings.\n",
        "\n",
        "Slice/substring operations"
      ],
      "metadata": {
        "id": "Oaj6A4ff9F2R"
      }
    },
    {
      "cell_type": "code",
      "source": [
        "string1 = \"hello world\""
      ],
      "metadata": {
        "id": "cOc_T5hK9IZB"
      },
      "execution_count": null,
      "outputs": []
    },
    {
      "cell_type": "code",
      "source": [
        "string1[2] = \"L\" #invalid"
      ],
      "metadata": {
        "colab": {
          "base_uri": "https://localhost:8080/",
          "height": 171
        },
        "id": "U-ax_KRdjjiY",
        "outputId": "7ce4d69f-aeff-4a54-942b-bcb3dc574cd2"
      },
      "execution_count": null,
      "outputs": [
        {
          "output_type": "error",
          "ename": "TypeError",
          "evalue": "ignored",
          "traceback": [
            "\u001b[0;31m---------------------------------------------------------------------------\u001b[0m",
            "\u001b[0;31mTypeError\u001b[0m                                 Traceback (most recent call last)",
            "\u001b[0;32m<ipython-input-2-91e1b447102f>\u001b[0m in \u001b[0;36m<module>\u001b[0;34m()\u001b[0m\n\u001b[0;32m----> 1\u001b[0;31m \u001b[0mstring1\u001b[0m\u001b[0;34m[\u001b[0m\u001b[0;36m2\u001b[0m\u001b[0;34m]\u001b[0m \u001b[0;34m=\u001b[0m \u001b[0;34m\"L\"\u001b[0m \u001b[0;31m#invalid\u001b[0m\u001b[0;34m\u001b[0m\u001b[0;34m\u001b[0m\u001b[0m\n\u001b[0m",
            "\u001b[0;31mTypeError\u001b[0m: 'str' object does not support item assignment"
          ]
        }
      ]
    },
    {
      "cell_type": "markdown",
      "source": [
        "## Indexing \n",
        "\n",
        "\n",
        "\n",
        "1.   Every charcater of the string can be accessed by it's position in the string.\n",
        "2.   Indexing starts from zero.\n",
        "3.   Syntax string_name[index_number] \n",
        "\n",
        "\n"
      ],
      "metadata": {
        "id": "E0TlvLQ7jp64"
      }
    },
    {
      "cell_type": "code",
      "source": [
        "#print h \n",
        "print(string1[0])"
      ],
      "metadata": {
        "colab": {
          "base_uri": "https://localhost:8080/"
        },
        "id": "UA_WAtl0j-Am",
        "outputId": "32569379-cc98-40cd-89cb-7e6f32a0ed28"
      },
      "execution_count": null,
      "outputs": [
        {
          "output_type": "stream",
          "name": "stdout",
          "text": [
            "h\n"
          ]
        }
      ]
    },
    {
      "cell_type": "markdown",
      "source": [
        "##Slicing operations\n",
        "\n",
        "syntax - string[ start_index : stop_index : step ] #if you dont provide `start_index` , `stop_index`, or `step` default values will be used  "
      ],
      "metadata": {
        "id": "0wQ1MGlhj-HB"
      }
    },
    {
      "cell_type": "code",
      "source": [
        "#printing hello\n",
        "\n",
        "string1[0:5] #only 0,1,2,3 and 4th index are printed, letter at 5th index is not printed "
      ],
      "metadata": {
        "colab": {
          "base_uri": "https://localhost:8080/",
          "height": 36
        },
        "id": "DYoyPbtUW9tH",
        "outputId": "315a6b35-f63d-49d4-db40-38cfef410844"
      },
      "execution_count": null,
      "outputs": [
        {
          "output_type": "execute_result",
          "data": {
            "text/plain": [
              "'hello'"
            ],
            "application/vnd.google.colaboratory.intrinsic+json": {
              "type": "string"
            }
          },
          "metadata": {},
          "execution_count": 203
        }
      ]
    },
    {
      "cell_type": "code",
      "source": [
        "string1[5] #returns string at 5th index i.e blank space"
      ],
      "metadata": {
        "colab": {
          "base_uri": "https://localhost:8080/",
          "height": 36
        },
        "id": "7b6MDoOD9Obl",
        "outputId": "1e1b0f35-754d-4cb5-af4f-98e22fe7508a"
      },
      "execution_count": null,
      "outputs": [
        {
          "output_type": "execute_result",
          "data": {
            "text/plain": [
              "' '"
            ],
            "application/vnd.google.colaboratory.intrinsic+json": {
              "type": "string"
            }
          },
          "metadata": {},
          "execution_count": 204
        }
      ]
    },
    {
      "cell_type": "code",
      "source": [
        "string1[2:] #slices string from 2nd index till the end of string, here we havent provided the index at which we have to stop, hence by default value is till end of the string "
      ],
      "metadata": {
        "colab": {
          "base_uri": "https://localhost:8080/",
          "height": 36
        },
        "id": "U4GTkAdf9Odb",
        "outputId": "d9ef2ee7-18f6-4396-d895-c6e92fce7bd7"
      },
      "execution_count": null,
      "outputs": [
        {
          "output_type": "execute_result",
          "data": {
            "text/plain": [
              "'llo world'"
            ],
            "application/vnd.google.colaboratory.intrinsic+json": {
              "type": "string"
            }
          },
          "metadata": {},
          "execution_count": 205
        }
      ]
    },
    {
      "cell_type": "code",
      "source": [
        "string1[3:] #slices string from 3rd index till the end,"
      ],
      "metadata": {
        "colab": {
          "base_uri": "https://localhost:8080/",
          "height": 36
        },
        "id": "zw7B8LWB9OhN",
        "outputId": "e5f82dcb-87ea-4ed6-c6e3-d4960920438f"
      },
      "execution_count": null,
      "outputs": [
        {
          "output_type": "execute_result",
          "data": {
            "text/plain": [
              "'lo world'"
            ],
            "application/vnd.google.colaboratory.intrinsic+json": {
              "type": "string"
            }
          },
          "metadata": {},
          "execution_count": 206
        }
      ]
    },
    {
      "cell_type": "code",
      "source": [
        "string1= \"hello world\"\n",
        "string1[:5] #slices string from begining till 5th index (5th index is excluded)"
      ],
      "metadata": {
        "colab": {
          "base_uri": "https://localhost:8080/",
          "height": 36
        },
        "id": "l5VmJsG49Ojg",
        "outputId": "af04c2ce-8047-44e0-c88d-65f1472670cc"
      },
      "execution_count": null,
      "outputs": [
        {
          "output_type": "execute_result",
          "data": {
            "text/plain": [
              "'hello'"
            ],
            "application/vnd.google.colaboratory.intrinsic+json": {
              "type": "string"
            }
          },
          "metadata": {},
          "execution_count": 207
        }
      ]
    },
    {
      "cell_type": "code",
      "source": [
        "string1[1:5] ##slices string from 1st index(second letter) till 5th index (5th index is excluded)"
      ],
      "metadata": {
        "colab": {
          "base_uri": "https://localhost:8080/",
          "height": 36
        },
        "id": "2BeFpphN9Olr",
        "outputId": "f3e2d922-569f-472e-c4c8-8ed134b72d76"
      },
      "execution_count": null,
      "outputs": [
        {
          "output_type": "execute_result",
          "data": {
            "text/plain": [
              "'ello'"
            ],
            "application/vnd.google.colaboratory.intrinsic+json": {
              "type": "string"
            }
          },
          "metadata": {},
          "execution_count": 208
        }
      ]
    },
    {
      "cell_type": "code",
      "source": [
        "string1[1:-1] # -1 is the index of the last letter, -2 is the index of second last letter, and so on...."
      ],
      "metadata": {
        "colab": {
          "base_uri": "https://localhost:8080/",
          "height": 36
        },
        "id": "5WCGVm359On1",
        "outputId": "affe8f6a-7b03-47dd-dd92-85b49b1e6d94"
      },
      "execution_count": null,
      "outputs": [
        {
          "output_type": "execute_result",
          "data": {
            "text/plain": [
              "'ello worl'"
            ],
            "application/vnd.google.colaboratory.intrinsic+json": {
              "type": "string"
            }
          },
          "metadata": {},
          "execution_count": 209
        }
      ]
    },
    {
      "cell_type": "code",
      "source": [
        "string1[2:-2]\n"
      ],
      "metadata": {
        "colab": {
          "base_uri": "https://localhost:8080/",
          "height": 36
        },
        "id": "SSQf7R-x9gNs",
        "outputId": "89bcb87a-90aa-456f-d194-57e9548d8a7e"
      },
      "execution_count": null,
      "outputs": [
        {
          "output_type": "execute_result",
          "data": {
            "text/plain": [
              "'llo wor'"
            ],
            "application/vnd.google.colaboratory.intrinsic+json": {
              "type": "string"
            }
          },
          "metadata": {},
          "execution_count": 210
        }
      ]
    },
    {
      "cell_type": "code",
      "source": [
        "print(string1[1:8:1])\n",
        "print(string1[1:8]) #output is same as above, \n",
        "print(string1[1:8:3])\n",
        "# string1[1:5:2] #start index : stop index : step \n",
        "# if no value for start index is given, slicing will begin from index 0, if no value for end index given, slicing will stop after the last letter, default value of step is 1. "
      ],
      "metadata": {
        "colab": {
          "base_uri": "https://localhost:8080/"
        },
        "id": "SW1mEkOmfs_2",
        "outputId": "9b1ca9fd-1fbc-4050-8636-54e5fa802066"
      },
      "execution_count": null,
      "outputs": [
        {
          "output_type": "stream",
          "name": "stdout",
          "text": [
            "ello wo\n",
            "ello wo\n",
            "eoo\n"
          ]
        }
      ]
    },
    {
      "cell_type": "code",
      "source": [
        "string1[::4] #slices string from begining to end but with step of 2\n",
        "# \"hello world\""
      ],
      "metadata": {
        "colab": {
          "base_uri": "https://localhost:8080/",
          "height": 36
        },
        "id": "rpwavtoI9gQ-",
        "outputId": "0787947b-a2f6-4f72-e0f8-0cfea210af2f"
      },
      "execution_count": null,
      "outputs": [
        {
          "output_type": "execute_result",
          "data": {
            "text/plain": [
              "'hor'"
            ],
            "application/vnd.google.colaboratory.intrinsic+json": {
              "type": "string"
            }
          },
          "metadata": {},
          "execution_count": 218
        }
      ]
    },
    {
      "cell_type": "code",
      "source": [
        "string1[:] #from beggining till the end, these are the default values for start index and stop index"
      ],
      "metadata": {
        "colab": {
          "base_uri": "https://localhost:8080/",
          "height": 36
        },
        "id": "dKQsCI4kaa2n",
        "outputId": "2bd4bb86-48f4-4847-eaa8-d97e806931be"
      },
      "execution_count": null,
      "outputs": [
        {
          "output_type": "execute_result",
          "data": {
            "text/plain": [
              "'hello world'"
            ],
            "application/vnd.google.colaboratory.intrinsic+json": {
              "type": "string"
            }
          },
          "metadata": {},
          "execution_count": 219
        }
      ]
    },
    {
      "cell_type": "code",
      "source": [
        ""
      ],
      "metadata": {
        "id": "KThZWKhvBudT"
      },
      "execution_count": null,
      "outputs": []
    },
    {
      "cell_type": "code",
      "source": [
        "#concat\n",
        "string1 = \"hello world\" #enter anything that you want!\n",
        "string2 = string1 + \" concat string\" "
      ],
      "metadata": {
        "id": "WXm1Rtgf9OrN"
      },
      "execution_count": null,
      "outputs": []
    },
    {
      "cell_type": "code",
      "source": [
        "string1 + \" hello\" # instead of +, try - ! "
      ],
      "metadata": {
        "colab": {
          "base_uri": "https://localhost:8080/",
          "height": 36
        },
        "id": "sPWr_7iluCEg",
        "outputId": "96445afb-5f33-4fdd-f5e9-57e9785ff25c"
      },
      "execution_count": null,
      "outputs": [
        {
          "output_type": "execute_result",
          "data": {
            "text/plain": [
              "'hello world hello'"
            ],
            "application/vnd.google.colaboratory.intrinsic+json": {
              "type": "string"
            }
          },
          "metadata": {},
          "execution_count": 221
        }
      ]
    },
    {
      "cell_type": "code",
      "source": [
        "string1 *2 == string1 + string1 # == is comparator, returns true if the LHS is equal to RHS"
      ],
      "metadata": {
        "colab": {
          "base_uri": "https://localhost:8080/"
        },
        "id": "XiecNbR69-r6",
        "outputId": "b2283e33-773e-4cf7-82e4-a597b263d0d7"
      },
      "execution_count": null,
      "outputs": [
        {
          "output_type": "execute_result",
          "data": {
            "text/plain": [
              "True"
            ]
          },
          "metadata": {},
          "execution_count": 222
        }
      ]
    },
    {
      "cell_type": "code",
      "source": [
        "string3 = \"abcdefgabcdefgsnje jsceckke\" "
      ],
      "metadata": {
        "id": "A6T_SJdvcHa0"
      },
      "execution_count": null,
      "outputs": []
    },
    {
      "cell_type": "code",
      "source": [
        "string3.split(\"df\") # no `df` substring in the above string, hence it will return whole string in a list..."
      ],
      "metadata": {
        "colab": {
          "base_uri": "https://localhost:8080/"
        },
        "id": "wroC0XFHcHdK",
        "outputId": "aaaf7189-08d4-4b67-a2c0-8eb87f8210ec"
      },
      "execution_count": null,
      "outputs": [
        {
          "output_type": "execute_result",
          "data": {
            "text/plain": [
              "['abcdefgabcdefgsnje jsceckke']"
            ]
          },
          "metadata": {},
          "execution_count": 224
        }
      ]
    },
    {
      "cell_type": "code",
      "source": [
        "#ord() function returns ASCII value of the character\n",
        "print(ord(\"A\"))\n",
        "\n",
        "\n",
        "print(ord(\" \"))"
      ],
      "metadata": {
        "colab": {
          "base_uri": "https://localhost:8080/"
        },
        "id": "tyVk25rucHf0",
        "outputId": "e69e73eb-9eb4-460d-a390-ba0b08571d7e"
      },
      "execution_count": null,
      "outputs": [
        {
          "output_type": "stream",
          "name": "stdout",
          "text": [
            "65\n",
            "32\n"
          ]
        }
      ]
    },
    {
      "cell_type": "markdown",
      "source": [
        "for more about ascii, checkout - https://www.cs.cmu.edu/~pattis/15-1XX/common/handouts/ascii.html"
      ],
      "metadata": {
        "id": "G7D_Rd1B8ARy"
      }
    },
    {
      "cell_type": "code",
      "source": [
        "#ASCII values \n",
        "# A = 65\n",
        "# B = 66 \n",
        "# C = 67\n",
        "# z = 122"
      ],
      "metadata": {
        "id": "4FBWFuj2cHiZ"
      },
      "execution_count": null,
      "outputs": []
    },
    {
      "cell_type": "code",
      "source": [
        "double_string1 = string1*2  \n",
        "double_string1"
      ],
      "metadata": {
        "id": "IU4qxF-g-Rab",
        "colab": {
          "base_uri": "https://localhost:8080/",
          "height": 36
        },
        "outputId": "e8d001c8-0a2a-4208-82f5-8c33e249e59c"
      },
      "execution_count": null,
      "outputs": [
        {
          "output_type": "execute_result",
          "data": {
            "text/plain": [
              "'hello worldhello world'"
            ],
            "application/vnd.google.colaboratory.intrinsic+json": {
              "type": "string"
            }
          },
          "metadata": {},
          "execution_count": 227
        }
      ]
    },
    {
      "cell_type": "code",
      "source": [
        "double_string1.split(\"ll\")"
      ],
      "metadata": {
        "colab": {
          "base_uri": "https://localhost:8080/"
        },
        "id": "1YIKeEOE-RoL",
        "outputId": "4fb262da-1ca0-4a7c-a51a-271903884669"
      },
      "execution_count": null,
      "outputs": [
        {
          "output_type": "execute_result",
          "data": {
            "text/plain": [
              "['he', 'o worldhe', 'o world']"
            ]
          },
          "metadata": {},
          "execution_count": 228
        }
      ]
    },
    {
      "cell_type": "code",
      "source": [
        "string1 + 71 #invalid because string and int cant be added together"
      ],
      "metadata": {
        "id": "tCguMqxsgzBn",
        "colab": {
          "base_uri": "https://localhost:8080/",
          "height": 171
        },
        "outputId": "1d524db4-9111-41e3-8af8-944f51f275ec"
      },
      "execution_count": null,
      "outputs": [
        {
          "output_type": "error",
          "ename": "TypeError",
          "evalue": "ignored",
          "traceback": [
            "\u001b[0;31m---------------------------------------------------------------------------\u001b[0m",
            "\u001b[0;31mTypeError\u001b[0m                                 Traceback (most recent call last)",
            "\u001b[0;32m<ipython-input-229-fe53fb369b99>\u001b[0m in \u001b[0;36m<module>\u001b[0;34m()\u001b[0m\n\u001b[0;32m----> 1\u001b[0;31m \u001b[0mstring1\u001b[0m \u001b[0;34m+\u001b[0m \u001b[0;36m71\u001b[0m \u001b[0;31m#invalid because string and int cant be added together\u001b[0m\u001b[0;34m\u001b[0m\u001b[0;34m\u001b[0m\u001b[0m\n\u001b[0m",
            "\u001b[0;31mTypeError\u001b[0m: can only concatenate str (not \"int\") to str"
          ]
        }
      ]
    },
    {
      "cell_type": "code",
      "source": [
        "int1 =71\n",
        "int1"
      ],
      "metadata": {
        "colab": {
          "base_uri": "https://localhost:8080/"
        },
        "id": "T1uw5iVWdSvE",
        "outputId": "494b6101-6c86-4afe-9c76-9a5e4b57585d"
      },
      "execution_count": null,
      "outputs": [
        {
          "output_type": "execute_result",
          "data": {
            "text/plain": [
              "71"
            ]
          },
          "metadata": {},
          "execution_count": 230
        }
      ]
    },
    {
      "cell_type": "code",
      "source": [
        "str(int1)"
      ],
      "metadata": {
        "colab": {
          "base_uri": "https://localhost:8080/",
          "height": 36
        },
        "id": "kqHAzHkrdS4N",
        "outputId": "1946da42-c96b-4ee1-9f21-20a7328ebabf"
      },
      "execution_count": null,
      "outputs": [
        {
          "output_type": "execute_result",
          "data": {
            "text/plain": [
              "'71'"
            ],
            "application/vnd.google.colaboratory.intrinsic+json": {
              "type": "string"
            }
          },
          "metadata": {},
          "execution_count": 231
        }
      ]
    },
    {
      "cell_type": "code",
      "source": [
        "#we must type cast the int to string, \n",
        "string1+ str(71)"
      ],
      "metadata": {
        "colab": {
          "base_uri": "https://localhost:8080/",
          "height": 36
        },
        "id": "emXRed2dg7Qh",
        "outputId": "6981488c-2137-4e73-f7a5-ee0fb03c1cc3"
      },
      "execution_count": null,
      "outputs": [
        {
          "output_type": "execute_result",
          "data": {
            "text/plain": [
              "'hello world71'"
            ],
            "application/vnd.google.colaboratory.intrinsic+json": {
              "type": "string"
            }
          },
          "metadata": {},
          "execution_count": 232
        }
      ]
    },
    {
      "cell_type": "markdown",
      "source": [
        "#list\n",
        "\n",
        "1. Initializing syntax: \\n list_name = [value_1,value_2,...,value_n]\n",
        "2. Behaviour Similar to strings\n",
        "3. Mutable\n",
        "4. Can contain multiple data types."
      ],
      "metadata": {
        "id": "cFDsUZ8u1Fvc"
      }
    },
    {
      "cell_type": "code",
      "source": [
        "list1 = [\"1\", 6, \"a\", 0.0003,2e-3] #objects in list can be of any type, (str,int,float,list)\n",
        "\n",
        "print(list1)"
      ],
      "metadata": {
        "colab": {
          "base_uri": "https://localhost:8080/"
        },
        "id": "wcq8zgtk1HuY",
        "outputId": "73cf500c-5cfb-44cd-c583-10581659b595"
      },
      "execution_count": null,
      "outputs": [
        {
          "output_type": "stream",
          "name": "stdout",
          "text": [
            "['1', 6, 'a', 0.0003, 0.002]\n"
          ]
        }
      ]
    },
    {
      "cell_type": "code",
      "source": [
        "list1.append(\"vv\")"
      ],
      "metadata": {
        "id": "Lich0YRu1HrA"
      },
      "execution_count": null,
      "outputs": []
    },
    {
      "cell_type": "code",
      "source": [
        "list1[3] = \"1223829382y3827\""
      ],
      "metadata": {
        "id": "QZ5DoLNJgqV0"
      },
      "execution_count": null,
      "outputs": []
    },
    {
      "cell_type": "code",
      "source": [
        "list1"
      ],
      "metadata": {
        "colab": {
          "base_uri": "https://localhost:8080/"
        },
        "id": "piJRBwgOguLD",
        "outputId": "e5672723-4ad6-4397-caaa-9e73dfa06c49"
      },
      "execution_count": null,
      "outputs": [
        {
          "output_type": "execute_result",
          "data": {
            "text/plain": [
              "['1', 6, 'a', '1223829382y3827', 0.002, 'vv']"
            ]
          },
          "metadata": {},
          "execution_count": 236
        }
      ]
    },
    {
      "cell_type": "code",
      "source": [
        "list2 = [\"333\", 333]"
      ],
      "metadata": {
        "id": "ZPAIyp7dguM7"
      },
      "execution_count": null,
      "outputs": []
    },
    {
      "cell_type": "code",
      "source": [
        "list1 += list2  #list1 = list1+ list2\n",
        "list1"
      ],
      "metadata": {
        "colab": {
          "base_uri": "https://localhost:8080/"
        },
        "id": "bv19VirvguQ1",
        "outputId": "11d4c46a-86ed-4b44-c73c-3edb87dadf18"
      },
      "execution_count": null,
      "outputs": [
        {
          "output_type": "execute_result",
          "data": {
            "text/plain": [
              "['1', 6, 'a', '1223829382y3827', 0.002, 'vv', '333', 333]"
            ]
          },
          "metadata": {},
          "execution_count": 238
        }
      ]
    },
    {
      "cell_type": "code",
      "source": [
        "list1[1] "
      ],
      "metadata": {
        "id": "5cXucPcp5p6E",
        "colab": {
          "base_uri": "https://localhost:8080/"
        },
        "outputId": "69512ff5-6613-4919-ca80-804dc7bd6083"
      },
      "execution_count": null,
      "outputs": [
        {
          "output_type": "execute_result",
          "data": {
            "text/plain": [
              "6"
            ]
          },
          "metadata": {},
          "execution_count": 239
        }
      ]
    },
    {
      "cell_type": "code",
      "source": [
        "list1[1] = 3 #replaces the element at the first index of the list1"
      ],
      "metadata": {
        "id": "27H2XTZn5w70"
      },
      "execution_count": null,
      "outputs": []
    },
    {
      "cell_type": "code",
      "source": [
        "list1"
      ],
      "metadata": {
        "colab": {
          "base_uri": "https://localhost:8080/"
        },
        "id": "6B-Sjm1e54jR",
        "outputId": "c70356c1-88ed-4137-b385-4d7afb02b800"
      },
      "execution_count": null,
      "outputs": [
        {
          "output_type": "execute_result",
          "data": {
            "text/plain": [
              "['1', 3, 'a', '1223829382y3827', 0.002, 'vv', '333', 333]"
            ]
          },
          "metadata": {},
          "execution_count": 241
        }
      ]
    },
    {
      "cell_type": "code",
      "source": [
        "#add \n",
        "list2 = [\"333\", 333,]"
      ],
      "metadata": {
        "id": "jABrfdO-6UVg"
      },
      "execution_count": null,
      "outputs": []
    },
    {
      "cell_type": "code",
      "source": [
        "list3 = list1 + list2"
      ],
      "metadata": {
        "id": "m_bkRZa-6l3e"
      },
      "execution_count": null,
      "outputs": []
    },
    {
      "cell_type": "code",
      "source": [
        "list3 "
      ],
      "metadata": {
        "id": "aIgGlIp9hVng",
        "colab": {
          "base_uri": "https://localhost:8080/"
        },
        "outputId": "bbdf00c6-a53c-4464-e542-771255a86948"
      },
      "execution_count": null,
      "outputs": [
        {
          "output_type": "execute_result",
          "data": {
            "text/plain": [
              "['1', 3, 'a', '1223829382y3827', 0.002, 'vv', '333', 333, '333', 333]"
            ]
          },
          "metadata": {},
          "execution_count": 244
        }
      ]
    },
    {
      "cell_type": "code",
      "source": [
        "list1 += list2 # list1 = list1 + list2 "
      ],
      "metadata": {
        "id": "ACrZsTRf6m0h"
      },
      "execution_count": null,
      "outputs": []
    },
    {
      "cell_type": "code",
      "source": [
        "list1"
      ],
      "metadata": {
        "id": "5alwKL8J7Idb",
        "colab": {
          "base_uri": "https://localhost:8080/"
        },
        "outputId": "14e1b432-46f5-4830-f850-98bb0160df5f"
      },
      "execution_count": null,
      "outputs": [
        {
          "output_type": "execute_result",
          "data": {
            "text/plain": [
              "['1', 3, 'a', '1223829382y3827', 0.002, 'vv', '333', 333, '333', 333]"
            ]
          },
          "metadata": {},
          "execution_count": 246
        }
      ]
    },
    {
      "cell_type": "code",
      "source": [
        "list1 * 3 == list1 + list1 +list1 \n",
        "list1*3"
      ],
      "metadata": {
        "colab": {
          "base_uri": "https://localhost:8080/"
        },
        "id": "Pj5QR2Gn7QY_",
        "outputId": "f16cab73-4f03-49ac-8250-2b9499d4fb53"
      },
      "execution_count": null,
      "outputs": [
        {
          "output_type": "execute_result",
          "data": {
            "text/plain": [
              "['1',\n",
              " 3,\n",
              " 'a',\n",
              " '1223829382y3827',\n",
              " 0.002,\n",
              " 'vv',\n",
              " '333',\n",
              " 333,\n",
              " '333',\n",
              " 333,\n",
              " '1',\n",
              " 3,\n",
              " 'a',\n",
              " '1223829382y3827',\n",
              " 0.002,\n",
              " 'vv',\n",
              " '333',\n",
              " 333,\n",
              " '333',\n",
              " 333,\n",
              " '1',\n",
              " 3,\n",
              " 'a',\n",
              " '1223829382y3827',\n",
              " 0.002,\n",
              " 'vv',\n",
              " '333',\n",
              " 333,\n",
              " '333',\n",
              " 333]"
            ]
          },
          "metadata": {},
          "execution_count": 247
        }
      ]
    },
    {
      "cell_type": "code",
      "source": [
        "(3* list1)/3  #this will give an error\n",
        "#not valid statement,"
      ],
      "metadata": {
        "id": "RgYrjVCR7ZFK",
        "colab": {
          "base_uri": "https://localhost:8080/",
          "height": 189
        },
        "outputId": "3341e805-7af5-40ff-c12c-d10d9fc3b72e"
      },
      "execution_count": null,
      "outputs": [
        {
          "output_type": "error",
          "ename": "TypeError",
          "evalue": "ignored",
          "traceback": [
            "\u001b[0;31m---------------------------------------------------------------------------\u001b[0m",
            "\u001b[0;31mTypeError\u001b[0m                                 Traceback (most recent call last)",
            "\u001b[0;32m<ipython-input-249-57f6064c2ebb>\u001b[0m in \u001b[0;36m<module>\u001b[0;34m()\u001b[0m\n\u001b[0;32m----> 1\u001b[0;31m \u001b[0;34m(\u001b[0m\u001b[0;36m3\u001b[0m\u001b[0;34m*\u001b[0m \u001b[0mlist1\u001b[0m\u001b[0;34m)\u001b[0m\u001b[0;34m/\u001b[0m\u001b[0;36m3\u001b[0m  \u001b[0;31m#this will give an error\u001b[0m\u001b[0;34m\u001b[0m\u001b[0;34m\u001b[0m\u001b[0m\n\u001b[0m\u001b[1;32m      2\u001b[0m \u001b[0;31m#not valid statement,\u001b[0m\u001b[0;34m\u001b[0m\u001b[0;34m\u001b[0m\u001b[0;34m\u001b[0m\u001b[0m\n",
            "\u001b[0;31mTypeError\u001b[0m: unsupported operand type(s) for /: 'list' and 'int'"
          ]
        }
      ]
    },
    {
      "cell_type": "code",
      "source": [
        "#append method for lists\n",
        "list1.append(\"a\") #will add \"a\" at the end of the list\n",
        "list1.append( [ 3, \"9\"] ) # you can append any datatype object, try with int,str,float etc by yourself "
      ],
      "metadata": {
        "id": "rcnMVWQ6fQ2c"
      },
      "execution_count": null,
      "outputs": []
    },
    {
      "cell_type": "code",
      "source": [
        "list1"
      ],
      "metadata": {
        "colab": {
          "base_uri": "https://localhost:8080/"
        },
        "id": "zJBkVW8qjwgQ",
        "outputId": "0e62823a-6f02-412a-ec78-1598338acbc2"
      },
      "execution_count": null,
      "outputs": [
        {
          "output_type": "execute_result",
          "data": {
            "text/plain": [
              "['1',\n",
              " 3,\n",
              " 'a',\n",
              " '1223829382y3827',\n",
              " 0.002,\n",
              " 'vv',\n",
              " '333',\n",
              " 333,\n",
              " '333',\n",
              " 333,\n",
              " 'a',\n",
              " [3, '9']]"
            ]
          },
          "metadata": {},
          "execution_count": 251
        }
      ]
    },
    {
      "cell_type": "code",
      "source": [
        "#few methods of list that are handy\n",
        "'''\n",
        "1) append() - takes one input, that input is added to the end of the list\n",
        "2) pop() - takes index position as an input, removes the object from memory at that index and returns the object, If no index given, it will remove the object at -1 index (last object in list)\n",
        "3) index - takes one input and returns the index of the input in given array\n",
        "'''\n",
        "#read more here - https://www.w3schools.com/python/python_ref_list.asp\n",
        "\n",
        "\n",
        "list1.index(333)"
      ],
      "metadata": {
        "id": "f48AjotU7h0u",
        "colab": {
          "base_uri": "https://localhost:8080/"
        },
        "outputId": "48077961-ce60-4630-e285-f08887ccba6c"
      },
      "execution_count": null,
      "outputs": [
        {
          "output_type": "execute_result",
          "data": {
            "text/plain": [
              "7"
            ]
          },
          "metadata": {},
          "execution_count": 252
        }
      ]
    },
    {
      "cell_type": "code",
      "source": [
        "list1"
      ],
      "metadata": {
        "colab": {
          "base_uri": "https://localhost:8080/"
        },
        "id": "44EBCZ3xkVgr",
        "outputId": "62d286ff-3013-4b84-be22-7525d30d2f1d"
      },
      "execution_count": null,
      "outputs": [
        {
          "output_type": "execute_result",
          "data": {
            "text/plain": [
              "['1',\n",
              " 3,\n",
              " 'a',\n",
              " '1223829382y3827',\n",
              " 0.002,\n",
              " 'vv',\n",
              " '333',\n",
              " 333,\n",
              " '333',\n",
              " 333,\n",
              " 'a',\n",
              " [3, '9']]"
            ]
          },
          "metadata": {},
          "execution_count": 253
        }
      ]
    },
    {
      "cell_type": "code",
      "source": [
        "animals = ['cat', 'dog', 'monkey']"
      ],
      "metadata": {
        "id": "9Xjz4-q9mFOO"
      },
      "execution_count": null,
      "outputs": []
    },
    {
      "cell_type": "code",
      "source": [
        "#print values in the list.. \n",
        "\n",
        "any_random_name = animals.pop() #removes 'monkey' from list and stored it in variable `any_random_name`\n",
        "animals"
      ],
      "metadata": {
        "colab": {
          "base_uri": "https://localhost:8080/"
        },
        "id": "dc_-Lw5UAq0O",
        "outputId": "997fca39-64a7-4bea-be4a-0e67cbcd536b"
      },
      "execution_count": null,
      "outputs": [
        {
          "output_type": "execute_result",
          "data": {
            "text/plain": [
              "['cat', 'dog']"
            ]
          },
          "metadata": {},
          "execution_count": 255
        }
      ]
    },
    {
      "cell_type": "code",
      "source": [
        "###Tuple and List are very similar datastructures. Only difference is that tuple is immutable (you cant edit it after defining)\n",
        "\n",
        "animals = ('cat', 'dog', 'monkey') \n",
        "animals[1] = \"elephant\" #will give error because tuple is immutable.. "
      ],
      "metadata": {
        "id": "wnOK8xJju5od",
        "colab": {
          "base_uri": "https://localhost:8080/",
          "height": 207
        },
        "outputId": "34667ecd-c55e-4df2-def3-bc2c2c50ee5c"
      },
      "execution_count": null,
      "outputs": [
        {
          "output_type": "error",
          "ename": "TypeError",
          "evalue": "ignored",
          "traceback": [
            "\u001b[0;31m---------------------------------------------------------------------------\u001b[0m",
            "\u001b[0;31mTypeError\u001b[0m                                 Traceback (most recent call last)",
            "\u001b[0;32m<ipython-input-256-31cc350debcc>\u001b[0m in \u001b[0;36m<module>\u001b[0;34m()\u001b[0m\n\u001b[1;32m      2\u001b[0m \u001b[0;34m\u001b[0m\u001b[0m\n\u001b[1;32m      3\u001b[0m \u001b[0manimals\u001b[0m \u001b[0;34m=\u001b[0m \u001b[0;34m(\u001b[0m\u001b[0;34m'cat'\u001b[0m\u001b[0;34m,\u001b[0m \u001b[0;34m'dog'\u001b[0m\u001b[0;34m,\u001b[0m \u001b[0;34m'monkey'\u001b[0m\u001b[0;34m)\u001b[0m\u001b[0;34m\u001b[0m\u001b[0;34m\u001b[0m\u001b[0m\n\u001b[0;32m----> 4\u001b[0;31m \u001b[0manimals\u001b[0m\u001b[0;34m[\u001b[0m\u001b[0;36m1\u001b[0m\u001b[0;34m]\u001b[0m \u001b[0;34m=\u001b[0m \u001b[0;34m\"elephant\"\u001b[0m\u001b[0;34m\u001b[0m\u001b[0;34m\u001b[0m\u001b[0m\n\u001b[0m",
            "\u001b[0;31mTypeError\u001b[0m: 'tuple' object does not support item assignment"
          ]
        }
      ]
    },
    {
      "cell_type": "markdown",
      "source": [
        "#Dictionary\n",
        "\n",
        "\n",
        "Very useful datatype, keys are in left, values at right..\n",
        "\n",
        "key-value pair, keys need to be unique"
      ],
      "metadata": {
        "id": "dOzff7lI8Lot"
      }
    },
    {
      "cell_type": "code",
      "source": [
        "player_price = [17,13,19]   #price in lakhs\n",
        "\n",
        "player_name = [\"sechin trendulkar\",\"gautam gembhir\",\"M doni\"] \n",
        "\n",
        "player_price[player_name.index(\"gautam gembhir\")] "
      ],
      "metadata": {
        "colab": {
          "base_uri": "https://localhost:8080/"
        },
        "id": "v-dWzmlJAYqN",
        "outputId": "619e6c61-7202-47f9-ca39-1e4c423f96f8"
      },
      "execution_count": null,
      "outputs": [
        {
          "output_type": "execute_result",
          "data": {
            "text/plain": [
              "13"
            ]
          },
          "metadata": {},
          "execution_count": 23
        }
      ]
    },
    {
      "cell_type": "code",
      "source": [
        "player_name.index(\"gautam gembhir\")"
      ],
      "metadata": {
        "colab": {
          "base_uri": "https://localhost:8080/"
        },
        "id": "n76TFtxAnSxb",
        "outputId": "e40224c4-2fd8-494b-efb4-36651df766aa"
      },
      "execution_count": null,
      "outputs": [
        {
          "output_type": "execute_result",
          "data": {
            "text/plain": [
              "1"
            ]
          },
          "metadata": {},
          "execution_count": 24
        }
      ]
    },
    {
      "cell_type": "code",
      "source": [
        "player_price[player_name.index(\"gautam gembhir\")]"
      ],
      "metadata": {
        "colab": {
          "base_uri": "https://localhost:8080/"
        },
        "id": "A9HWtbT_ng6g",
        "outputId": "0f1c7673-833b-4376-d4f7-ef75515a0a02"
      },
      "execution_count": null,
      "outputs": [
        {
          "output_type": "execute_result",
          "data": {
            "text/plain": [
              "13"
            ]
          },
          "metadata": {},
          "execution_count": 25
        }
      ]
    },
    {
      "cell_type": "code",
      "source": [
        "# but this is pain right?"
      ],
      "metadata": {
        "id": "RoLya4l9BJXU"
      },
      "execution_count": null,
      "outputs": []
    },
    {
      "cell_type": "code",
      "source": [
        "price_book = {\"sechin trendulkar\" : 17, \"sechin trendulkar \":20} "
      ],
      "metadata": {
        "id": "lw6yKmdqBP8l"
      },
      "execution_count": null,
      "outputs": []
    },
    {
      "cell_type": "code",
      "source": [
        "\n",
        "price_book[\"gautam gembhir\"] = 13\n",
        "price_book[\"M doni\"] =19\n",
        "\n",
        "\n",
        "\n",
        "#dir(price_book) # dir function lists all the methods available for an object "
      ],
      "metadata": {
        "id": "QkjjQvrpBcFB"
      },
      "execution_count": null,
      "outputs": []
    },
    {
      "cell_type": "code",
      "source": [
        "list(price_book.items()) "
      ],
      "metadata": {
        "colab": {
          "base_uri": "https://localhost:8080/"
        },
        "id": "LsWLxRlMogVB",
        "outputId": "6934470e-d289-461b-9985-d61c207e110f"
      },
      "execution_count": null,
      "outputs": [
        {
          "output_type": "execute_result",
          "data": {
            "text/plain": [
              "[('sechin trendulkar', 17),\n",
              " ('sechin trendulkar ', 20),\n",
              " ('gautam gembhir', 13),\n",
              " ('M doni', 19)]"
            ]
          },
          "metadata": {},
          "execution_count": 34
        }
      ]
    },
    {
      "cell_type": "code",
      "source": [
        "price_book2 = {\"key1\" :  2, }"
      ],
      "metadata": {
        "id": "7iiD6vWbo4_Q"
      },
      "execution_count": null,
      "outputs": []
    },
    {
      "cell_type": "code",
      "source": [
        "price_book # datatype - set "
      ],
      "metadata": {
        "colab": {
          "base_uri": "https://localhost:8080/"
        },
        "id": "sOwOa1dspdvo",
        "outputId": "e411f7db-4422-43c8-81c8-1e3f2498dfe3"
      },
      "execution_count": null,
      "outputs": [
        {
          "output_type": "execute_result",
          "data": {
            "text/plain": [
              "{'M doni': 19,\n",
              " 'gautam gembhir': 13,\n",
              " 'sechin trendulkar': 17,\n",
              " 'sechin trendulkar ': 20}"
            ]
          },
          "metadata": {},
          "execution_count": 118
        }
      ]
    },
    {
      "cell_type": "code",
      "source": [
        "#iteration in dictionary\n",
        "\n",
        "\n",
        "for i in price_book.values():\n",
        "  print(i)\n",
        "\n",
        "for i in price_book.keys():\n",
        "  print(i)"
      ],
      "metadata": {
        "id": "6v6OOs5LB1nB"
      },
      "execution_count": null,
      "outputs": []
    },
    {
      "cell_type": "code",
      "source": [
        "tuple(price_book.items())\n",
        "\n"
      ],
      "metadata": {
        "colab": {
          "base_uri": "https://localhost:8080/"
        },
        "id": "Cssg3uel0aRa",
        "outputId": "a3a4aa74-d26d-46a3-9080-42e292fdb138"
      },
      "execution_count": null,
      "outputs": [
        {
          "output_type": "execute_result",
          "data": {
            "text/plain": [
              "(('sechin trendulkar', 17),\n",
              " ('sechin trendulkar ', 20),\n",
              " ('gautam gembhir', 13),\n",
              " ('M doni', 19))"
            ]
          },
          "metadata": {},
          "execution_count": 132
        }
      ]
    },
    {
      "cell_type": "code",
      "source": [
        "for i in price_book.items():\n",
        "  print(\"key is : \",i[0], \". value is \", i[1]) "
      ],
      "metadata": {
        "colab": {
          "base_uri": "https://localhost:8080/"
        },
        "id": "Fafk72SUz3-v",
        "outputId": "7b1c1c2a-28a3-40c7-9f20-0714de081e1b"
      },
      "execution_count": null,
      "outputs": [
        {
          "output_type": "stream",
          "name": "stdout",
          "text": [
            "key is :  sechin trendulkar . value is  17\n",
            "key is :  sechin trendulkar  . value is  20\n",
            "key is :  gautam gembhir . value is  13\n",
            "key is :  M doni . value is  19\n"
          ]
        }
      ]
    },
    {
      "cell_type": "code",
      "source": [
        "matrix = [\n",
        "          [1, 2, 3],\n",
        "          [4, 5, 6],\n",
        "          [7, 8, 9],\n",
        "\n",
        "          ]\n",
        "\n",
        "\n",
        "for i,j,k in matrix:\n",
        "  print(i, j, k)"
      ],
      "metadata": {
        "colab": {
          "base_uri": "https://localhost:8080/"
        },
        "id": "AnUlQbDvz98x",
        "outputId": "c65c1f85-dafd-4002-bc1c-6cfbd77b105c"
      },
      "execution_count": null,
      "outputs": [
        {
          "output_type": "stream",
          "name": "stdout",
          "text": [
            "('sechin trendulkar', 17)\n",
            "('sechin trendulkar ', 20)\n",
            "('gautam gembhir', 13)\n",
            "('M doni', 19)\n"
          ]
        }
      ]
    },
    {
      "cell_type": "code",
      "source": [
        "i,j,k = [1,2,3]\n",
        "type(i)"
      ],
      "metadata": {
        "colab": {
          "base_uri": "https://localhost:8080/"
        },
        "id": "4MuRypN12IaW",
        "outputId": "506dec98-51b4-4fa4-bbb5-71bb3fbc5458"
      },
      "execution_count": null,
      "outputs": [
        {
          "output_type": "execute_result",
          "data": {
            "text/plain": [
              "int"
            ]
          },
          "metadata": {},
          "execution_count": 152
        }
      ]
    },
    {
      "cell_type": "code",
      "source": [
        "print(a)"
      ],
      "metadata": {
        "colab": {
          "base_uri": "https://localhost:8080/"
        },
        "id": "8uLTnZsr2I1c",
        "outputId": "4bed19a1-df56-4136-c805-dd9fbee05d67"
      },
      "execution_count": null,
      "outputs": [
        {
          "output_type": "stream",
          "name": "stdout",
          "text": [
            "1\n"
          ]
        }
      ]
    },
    {
      "cell_type": "markdown",
      "source": [
        "#If elif else"
      ],
      "metadata": {
        "id": "CodoPNElB8vY"
      }
    },
    {
      "cell_type": "markdown",
      "source": [
        "\n",
        "\n",
        "```\n",
        "if x:\n",
        "    if y:\n",
        "        code-statement\n",
        "elif z:  # else if\n",
        "    another-code-statement\n",
        "else:\n",
        "    another-code-statement\n",
        "```\n",
        "\n"
      ],
      "metadata": {
        "id": "fYD9ebx7B7Dp"
      }
    },
    {
      "cell_type": "code",
      "source": [
        "if True: # == is a comparator\n",
        "  print(\"OMG this is true!\")"
      ],
      "metadata": {
        "id": "Pee3FOhqCHqf",
        "colab": {
          "base_uri": "https://localhost:8080/"
        },
        "outputId": "943d891c-9317-4ba6-c5fc-583bbd7d04e7"
      },
      "execution_count": null,
      "outputs": [
        {
          "output_type": "stream",
          "name": "stdout",
          "text": [
            "OMG this is true!\n"
          ]
        }
      ]
    },
    {
      "cell_type": "code",
      "source": [
        ""
      ],
      "metadata": {
        "id": "V6QPrAdNqnqh"
      },
      "execution_count": null,
      "outputs": []
    },
    {
      "cell_type": "code",
      "source": [
        "if  False:\n",
        "  print(\"OMG this is false\")"
      ],
      "metadata": {
        "id": "uA5WyVndCHzT"
      },
      "execution_count": null,
      "outputs": []
    },
    {
      "cell_type": "code",
      "source": [
        "if 1:\n",
        "  print(\"OMG this is 1\")"
      ],
      "metadata": {
        "id": "anM83veqCH1p"
      },
      "execution_count": null,
      "outputs": []
    },
    {
      "cell_type": "code",
      "source": [
        "if not 0: # not 0 \n",
        "  print(\"OMG this is `not 0`\")"
      ],
      "metadata": {
        "colab": {
          "base_uri": "https://localhost:8080/"
        },
        "id": "dXBRhL2xCH3T",
        "outputId": "0b08aaa3-3c44-440c-a17d-32d0e39c4450"
      },
      "execution_count": null,
      "outputs": [
        {
          "output_type": "stream",
          "name": "stdout",
          "text": [
            "OMG this is `not 0`\n"
          ]
        }
      ]
    },
    {
      "cell_type": "code",
      "source": [
        "if -1 : #everything other than 0 is mapped to true \n",
        "  print(\"true condition print hoga\") #guess kro bhai \n",
        "\n",
        "else:\n",
        "  print(\"false condition print hoga\")"
      ],
      "metadata": {
        "id": "cjaQ1cfMCH6r",
        "colab": {
          "base_uri": "https://localhost:8080/"
        },
        "outputId": "4009edd6-4cf5-4588-84d3-0b51f2fc6cea"
      },
      "execution_count": null,
      "outputs": [
        {
          "output_type": "stream",
          "name": "stdout",
          "text": [
            "true condition print hoga\n"
          ]
        }
      ]
    },
    {
      "cell_type": "code",
      "source": [
        "x = False\n",
        "\n",
        "if x:\n",
        "    print('x was True!')\n",
        "else:\n",
        "    print('I will be printed in any case where x is not true')"
      ],
      "metadata": {
        "id": "x9V5mkn2Cgwe",
        "colab": {
          "base_uri": "https://localhost:8080/"
        },
        "outputId": "daf55500-f453-4ef6-e9fa-416a56755a4d"
      },
      "execution_count": null,
      "outputs": [
        {
          "output_type": "stream",
          "name": "stdout",
          "text": [
            "I will be printed in any case where x is not true\n"
          ]
        }
      ]
    },
    {
      "cell_type": "code",
      "source": [
        "var = \"a\"\n",
        "\n",
        "if var == \"a\" : \n",
        "  print(\"var is a\")\n",
        "  print(\"var is also a \")\n",
        "if var == \"b\": # else if \n",
        "  print(\"var is b\")\n",
        "  print(\"some string\")\n",
        "if var == \"c\":\n",
        "  print(\"var is c\")\n",
        "  print(\"c block is also executed\")\n"
      ],
      "metadata": {
        "id": "J038bgclnMMy",
        "colab": {
          "base_uri": "https://localhost:8080/"
        },
        "outputId": "6f5f3ae8-0485-4d48-8818-655a8a2d87c1"
      },
      "execution_count": null,
      "outputs": [
        {
          "output_type": "stream",
          "name": "stdout",
          "text": [
            "var is a\n",
            "var is also a \n"
          ]
        }
      ]
    },
    {
      "cell_type": "code",
      "source": [
        "if 1 ==1 :\n",
        "  print(\"true !!!!\")\n",
        "elif 2==2:\n",
        "  print(\"hurray this also true!!!\")"
      ],
      "metadata": {
        "colab": {
          "base_uri": "https://localhost:8080/"
        },
        "id": "A_0vth-UvOPT",
        "outputId": "01cd0880-5381-4555-f379-459d438d55ae"
      },
      "execution_count": null,
      "outputs": [
        {
          "output_type": "stream",
          "name": "stdout",
          "text": [
            "true !!!!\n"
          ]
        }
      ]
    },
    {
      "cell_type": "code",
      "source": [
        "var = \"b\" \n",
        "\n",
        "if var == \"a\" : \n",
        "  print(\"var is a\")\n",
        "elif var == \"b\": # else if \n",
        "  print(\"var is b\")\n",
        "elif var == \"c\":\n",
        "  print(\"var is c\")\n",
        "  print(\"c block is also executed\")\n",
        "else: \n",
        "  print(\"Var is not a nor b\")"
      ],
      "metadata": {
        "colab": {
          "base_uri": "https://localhost:8080/"
        },
        "id": "78O0lvfJtq-r",
        "outputId": "f601a6f4-b936-418a-8199-a4a761025b60"
      },
      "execution_count": null,
      "outputs": [
        {
          "output_type": "stream",
          "name": "stdout",
          "text": [
            "var is b\n"
          ]
        }
      ]
    },
    {
      "cell_type": "markdown",
      "source": [
        "#Loops "
      ],
      "metadata": {
        "id": "rdkFJKVQ_rI0"
      }
    },
    {
      "cell_type": "markdown",
      "source": [
        "Looping can be done over an iterable which can be a list, set, dictionary, etc.\n",
        "Let us concern ourselves with lists for now.\n",
        "\n",
        "\n",
        "range is one of the commonly used \n",
        "\n",
        "\n",
        "range(start, stop, step)"
      ],
      "metadata": {
        "id": "QfdyY0txQquJ"
      }
    },
    {
      "cell_type": "code",
      "source": [
        "a = list(range(-10,7,2))\n",
        "a\n"
      ],
      "metadata": {
        "colab": {
          "base_uri": "https://localhost:8080/"
        },
        "id": "JIOSP2ZaQq1w",
        "outputId": "6a58ddef-78be-4e86-dd67-0ee173cc82c8"
      },
      "execution_count": null,
      "outputs": [
        {
          "output_type": "execute_result",
          "data": {
            "text/plain": [
              "[-10, -8, -6, -4, -2, 0, 2, 4, 6]"
            ]
          },
          "metadata": {},
          "execution_count": 88
        }
      ]
    },
    {
      "cell_type": "code",
      "source": [
        "b = list(range(2,10,2)) # step is 2, 10 will not be included\n",
        "b"
      ],
      "metadata": {
        "colab": {
          "base_uri": "https://localhost:8080/"
        },
        "id": "LWKfZ6GiQq3l",
        "outputId": "680f7504-8de7-4fea-a311-c30049d6cb97"
      },
      "execution_count": null,
      "outputs": [
        {
          "output_type": "execute_result",
          "data": {
            "text/plain": [
              "[2, 4, 6, 8]"
            ]
          },
          "metadata": {},
          "execution_count": 89
        }
      ]
    },
    {
      "cell_type": "code",
      "source": [
        "c= list(range(-10, 10, 3 )) #negative numbers are supported\n",
        "c"
      ],
      "metadata": {
        "colab": {
          "base_uri": "https://localhost:8080/"
        },
        "id": "f4mxxbL2Qq7K",
        "outputId": "7d47f3b7-b2b1-4f65-b915-812cc0bb6ae4"
      },
      "execution_count": null,
      "outputs": [
        {
          "output_type": "execute_result",
          "data": {
            "text/plain": [
              "[-10, -7, -4, -1, 2, 5, 8]"
            ]
          },
          "metadata": {},
          "execution_count": 90
        }
      ]
    },
    {
      "cell_type": "code",
      "source": [
        "d = list(range(2,10,-1)) #returns \n",
        "d"
      ],
      "metadata": {
        "colab": {
          "base_uri": "https://localhost:8080/"
        },
        "id": "1THVbLWeR0b2",
        "outputId": "41edd908-f611-4e6b-b352-e7420717215b"
      },
      "execution_count": null,
      "outputs": [
        {
          "output_type": "execute_result",
          "data": {
            "text/plain": [
              "[]"
            ]
          },
          "metadata": {},
          "execution_count": 92
        }
      ]
    },
    {
      "cell_type": "code",
      "source": [
        "list(range(10, 1, -1))"
      ],
      "metadata": {
        "colab": {
          "base_uri": "https://localhost:8080/"
        },
        "id": "sfH5qUkHR1Ab",
        "outputId": "54eb0a5e-580d-4d7b-9083-28cce1efee4c"
      },
      "execution_count": null,
      "outputs": [
        {
          "output_type": "execute_result",
          "data": {
            "text/plain": [
              "[10, 9, 8, 7, 6, 5, 4, 3, 2]"
            ]
          },
          "metadata": {},
          "execution_count": 96
        }
      ]
    },
    {
      "cell_type": "code",
      "source": [
        "list(range(10,1,-1))"
      ],
      "metadata": {
        "colab": {
          "base_uri": "https://localhost:8080/"
        },
        "id": "CiLnzB87wwKF",
        "outputId": "1896912c-5bf6-49f9-cd6a-479d8ff9e688"
      },
      "execution_count": null,
      "outputs": [
        {
          "output_type": "execute_result",
          "data": {
            "text/plain": [
              "[10, 9, 8, 7, 6, 5, 4, 3, 2]"
            ]
          },
          "metadata": {},
          "execution_count": 101
        }
      ]
    },
    {
      "cell_type": "markdown",
      "source": [
        "###Syntax - for loop \n",
        "\n",
        "\n",
        "```\n",
        "\n",
        "for value in iterable:\n",
        "    execute statement(s)\n",
        "```\n",
        "\n"
      ],
      "metadata": {
        "id": "gbam2yYpR1D-"
      }
    },
    {
      "cell_type": "code",
      "source": [
        "a = [0, 1, 2, 3, 4, 5, 6]\n",
        "\n",
        "\n",
        "for i in a:\n",
        "  print(i,) "
      ],
      "metadata": {
        "colab": {
          "base_uri": "https://localhost:8080/"
        },
        "id": "FxvVGL3lThVU",
        "outputId": "6220f608-0a0b-45eb-800c-aca80f4e848e"
      },
      "execution_count": null,
      "outputs": [
        {
          "output_type": "stream",
          "name": "stdout",
          "text": [
            "0\n",
            "1\n",
            "2\n",
            "3\n",
            "4\n",
            "5\n",
            "6\n"
          ]
        }
      ]
    },
    {
      "cell_type": "code",
      "source": [
        "#a can be any iterable, i.e it can be a list, string, set, tuple \n",
        "\n",
        "a = (1, 2, 3, 4, 5, 6)\n",
        "\n",
        "for  i in a:\n",
        "  print(i)"
      ],
      "metadata": {
        "colab": {
          "base_uri": "https://localhost:8080/"
        },
        "id": "Fnokrx0MThYC",
        "outputId": "18d7631a-1699-483c-f141-7330d77ed853"
      },
      "execution_count": null,
      "outputs": [
        {
          "output_type": "stream",
          "name": "stdout",
          "text": [
            "1hihi 2hihi 3hihi 4hihi 5hihi 6hihi "
          ]
        }
      ]
    },
    {
      "cell_type": "code",
      "source": [
        "a = \"hello world\"\n",
        "\n",
        "for i in a:\n",
        "  print(i)  "
      ],
      "metadata": {
        "colab": {
          "base_uri": "https://localhost:8080/"
        },
        "id": "ll2Bwjx6Thax",
        "outputId": "62468c7f-7502-48b0-b9f4-f3f98896fc6b"
      },
      "execution_count": null,
      "outputs": [
        {
          "output_type": "stream",
          "name": "stdout",
          "text": [
            "h\n",
            "e\n",
            "l\n",
            "l\n",
            "o\n",
            " \n",
            "w\n",
            "o\n",
            "r\n",
            "l\n",
            "d\n"
          ]
        }
      ]
    },
    {
      "cell_type": "code",
      "source": [
        "matrix = [\n",
        "          [1, 2, 3, 10],\n",
        "          [4, 5, 6],\n",
        "          [7, 8, 9],\n",
        "          #{\"1\":2}\n",
        "          ]\n",
        "\n",
        "\n",
        "for sublist in matrix:\n",
        "    print(sublist, \" is a sublist\")\n",
        "    #sublist = \"string\" \n",
        "    for value in sublist:  #nested for loop \n",
        "        print(value , \"is a value\")\n",
        "        "
      ],
      "metadata": {
        "colab": {
          "base_uri": "https://localhost:8080/"
        },
        "id": "kFE8215wVBDS",
        "outputId": "624dfbb2-57e9-424a-8cc6-09c55fdf7a64"
      },
      "execution_count": null,
      "outputs": [
        {
          "output_type": "stream",
          "name": "stdout",
          "text": [
            "[1, 2, 3, 10]  is a sublist\n",
            "1 is a value\n",
            "2 is a value\n",
            "3 is a value\n",
            "10 is a value\n",
            "[4, 5, 6]  is a sublist\n",
            "4 is a value\n",
            "5 is a value\n",
            "6 is a value\n",
            "[7, 8, 9]  is a sublist\n",
            "7 is a value\n",
            "8 is a value\n",
            "9 is a value\n",
            "{'1': 2}  is a sublist\n",
            "1 is a value\n"
          ]
        }
      ]
    },
    {
      "cell_type": "code",
      "source": [
        "#reading abt break statement, continue statement and pass statement"
      ],
      "metadata": {
        "id": "rRoo8dkJVBKt"
      },
      "execution_count": null,
      "outputs": []
    },
    {
      "cell_type": "markdown",
      "source": [
        "#Functions"
      ],
      "metadata": {
        "id": "Urc8VCJQB7yX"
      }
    },
    {
      "cell_type": "code",
      "source": [
        "def identity(input): #this identity function expects one object as an input; returns same thing, does nothing\n",
        "  return input "
      ],
      "metadata": {
        "id": "evJFZZUJ3AUK"
      },
      "execution_count": null,
      "outputs": []
    },
    {
      "cell_type": "code",
      "source": [
        "identity(1.0)"
      ],
      "metadata": {
        "colab": {
          "base_uri": "https://localhost:8080/"
        },
        "id": "rpHYEFZv221E",
        "outputId": "9a4ea76d-2497-48e8-9ad9-a802e768f1db"
      },
      "execution_count": null,
      "outputs": [
        {
          "output_type": "execute_result",
          "data": {
            "text/plain": [
              "1.0"
            ]
          },
          "metadata": {},
          "execution_count": 160
        }
      ]
    },
    {
      "cell_type": "code",
      "source": [
        "z1 = identity(\"something\")\n",
        "print(z1)\n",
        "\n",
        "random_list = [1,2,3.4,\"hello\"] #\n",
        "z2 = identity(random_list) #here you can see we have passed a list object to the identity function.\n",
        "print(z2)"
      ],
      "metadata": {
        "colab": {
          "base_uri": "https://localhost:8080/"
        },
        "id": "X3CP9nvS3N_w",
        "outputId": "72c12ca8-d3bd-4c4e-a9bb-960a8ce6626c"
      },
      "execution_count": null,
      "outputs": [
        {
          "output_type": "stream",
          "name": "stdout",
          "text": [
            "something\n",
            "[1, 2, 3.4, 'hello']\n"
          ]
        }
      ]
    },
    {
      "cell_type": "code",
      "source": [
        "def add_numbers(x = 0  , y = 0, z=0): #in this function by default the input parameters are set to 0.\n",
        "    print(z)\n",
        "    return x+y+z"
      ],
      "metadata": {
        "id": "mk0yglBA3VHU"
      },
      "execution_count": null,
      "outputs": []
    },
    {
      "cell_type": "code",
      "source": [
        "add_numbers(x=3,z=2,y=2)"
      ],
      "metadata": {
        "colab": {
          "base_uri": "https://localhost:8080/"
        },
        "id": "1fOU9hLp3_4b",
        "outputId": "a00d7772-b554-4a4c-ca6a-e3831304db13"
      },
      "execution_count": null,
      "outputs": [
        {
          "output_type": "stream",
          "name": "stdout",
          "text": [
            "2\n"
          ]
        },
        {
          "output_type": "execute_result",
          "data": {
            "text/plain": [
              "7"
            ]
          },
          "metadata": {},
          "execution_count": 185
        }
      ]
    },
    {
      "cell_type": "code",
      "source": [
        "type(\"strings\")"
      ],
      "metadata": {
        "colab": {
          "base_uri": "https://localhost:8080/"
        },
        "id": "Pv0U3XtS4PmI",
        "outputId": "282e1988-9a0b-4cd8-9ec3-1a19ad8eaf92"
      },
      "execution_count": null,
      "outputs": [
        {
          "output_type": "execute_result",
          "data": {
            "text/plain": [
              "str"
            ]
          },
          "metadata": {},
          "execution_count": 180
        }
      ]
    },
    {
      "cell_type": "code",
      "source": [
        "print(type(add_numbers))\n",
        "print(add_numbers)"
      ],
      "metadata": {
        "colab": {
          "base_uri": "https://localhost:8080/"
        },
        "id": "WQXRfhDyosCf",
        "outputId": "17e50bdf-fceb-4519-d9d6-537736ac900e"
      },
      "execution_count": null,
      "outputs": [
        {
          "output_type": "stream",
          "name": "stdout",
          "text": [
            "<class 'function'>\n",
            "<function add_numbers at 0x7f6e1df44ef0>\n"
          ]
        }
      ]
    },
    {
      "cell_type": "code",
      "source": [
        "print(add_numbers(x=1,y=24))\n",
        "print(add_numbers())"
      ],
      "metadata": {
        "colab": {
          "base_uri": "https://localhost:8080/"
        },
        "id": "7QL0GGcx4379",
        "outputId": "75851908-554d-488d-c935-792e772a35a6"
      },
      "execution_count": null,
      "outputs": [
        {
          "output_type": "stream",
          "name": "stdout",
          "text": [
            "0\n",
            "25\n",
            "0\n",
            "0\n"
          ]
        }
      ]
    },
    {
      "cell_type": "code",
      "source": [
        "new_func = add_numbers\n",
        "\n",
        "new_func(x=1,y=24)\n"
      ],
      "metadata": {
        "colab": {
          "base_uri": "https://localhost:8080/"
        },
        "id": "i51D1Kn846hF",
        "outputId": "91731884-44d4-434c-b869-54df77c4a40d"
      },
      "execution_count": null,
      "outputs": [
        {
          "output_type": "stream",
          "name": "stdout",
          "text": [
            "0\n"
          ]
        },
        {
          "output_type": "execute_result",
          "data": {
            "text/plain": [
              "25"
            ]
          },
          "metadata": {},
          "execution_count": 188
        }
      ]
    },
    {
      "cell_type": "code",
      "source": [
        "a = 1.0\n",
        "\n",
        "\n",
        "dir(a)"
      ],
      "metadata": {
        "colab": {
          "base_uri": "https://localhost:8080/"
        },
        "id": "sYdo8MBc5hmR",
        "outputId": "606246dd-2358-412e-e6f6-8d8b80538c1a"
      },
      "execution_count": null,
      "outputs": [
        {
          "output_type": "execute_result",
          "data": {
            "text/plain": [
              "['__abs__',\n",
              " '__add__',\n",
              " '__bool__',\n",
              " '__class__',\n",
              " '__delattr__',\n",
              " '__dir__',\n",
              " '__divmod__',\n",
              " '__doc__',\n",
              " '__eq__',\n",
              " '__float__',\n",
              " '__floordiv__',\n",
              " '__format__',\n",
              " '__ge__',\n",
              " '__getattribute__',\n",
              " '__getformat__',\n",
              " '__getnewargs__',\n",
              " '__gt__',\n",
              " '__hash__',\n",
              " '__init__',\n",
              " '__init_subclass__',\n",
              " '__int__',\n",
              " '__le__',\n",
              " '__lt__',\n",
              " '__mod__',\n",
              " '__mul__',\n",
              " '__ne__',\n",
              " '__neg__',\n",
              " '__new__',\n",
              " '__pos__',\n",
              " '__pow__',\n",
              " '__radd__',\n",
              " '__rdivmod__',\n",
              " '__reduce__',\n",
              " '__reduce_ex__',\n",
              " '__repr__',\n",
              " '__rfloordiv__',\n",
              " '__rmod__',\n",
              " '__rmul__',\n",
              " '__round__',\n",
              " '__rpow__',\n",
              " '__rsub__',\n",
              " '__rtruediv__',\n",
              " '__set_format__',\n",
              " '__setattr__',\n",
              " '__sizeof__',\n",
              " '__str__',\n",
              " '__sub__',\n",
              " '__subclasshook__',\n",
              " '__truediv__',\n",
              " '__trunc__',\n",
              " 'as_integer_ratio',\n",
              " 'conjugate',\n",
              " 'fromhex',\n",
              " 'hex',\n",
              " 'imag',\n",
              " 'is_integer',\n",
              " 'real']"
            ]
          },
          "metadata": {},
          "execution_count": 192
        }
      ]
    },
    {
      "cell_type": "code",
      "source": [
        ""
      ],
      "metadata": {
        "id": "NOwlLsmk_WjP"
      },
      "execution_count": null,
      "outputs": []
    },
    {
      "cell_type": "code",
      "source": [
        "#what if there are multiple inputs,add 5 numbers "
      ],
      "metadata": {
        "id": "kwvFspRA5jFt"
      },
      "execution_count": null,
      "outputs": []
    },
    {
      "cell_type": "code",
      "source": [
        "def add_n_numbers(*args): #non keyword argument \n",
        "  sum=0\n",
        "  print(args, type(args))\n",
        "  for i in args:\n",
        "    sum = sum+i\n",
        "  return sum"
      ],
      "metadata": {
        "id": "9QfkzlZz5kG6"
      },
      "execution_count": null,
      "outputs": []
    },
    {
      "cell_type": "code",
      "source": [
        "def add_n_numbers(*another_var):\n",
        "  sum=0\n",
        "  for i in another_var:\n",
        "    sum = sum+i\n",
        "  return sum"
      ],
      "metadata": {
        "id": "R0dNl3is8u5L"
      },
      "execution_count": null,
      "outputs": []
    },
    {
      "cell_type": "code",
      "source": [
        "add_n_numbers(1,2,33,5,6,67,4)"
      ],
      "metadata": {
        "colab": {
          "base_uri": "https://localhost:8080/"
        },
        "id": "MRVd6HOc81Nu",
        "outputId": "f22be0dd-1c4f-40a7-9c10-19412238f17e"
      },
      "execution_count": null,
      "outputs": [
        {
          "output_type": "execute_result",
          "data": {
            "text/plain": [
              "118"
            ]
          },
          "metadata": {},
          "execution_count": 303
        }
      ]
    },
    {
      "cell_type": "code",
      "source": [
        "visited_places = [\"delhi\", \"chennai\", \"shillong\", \"Bits Pilani K K Birla Goa Campus\"]\n",
        "\n",
        "def last_visited(*args):\n",
        "  print(args)\n",
        "  return args[-1]"
      ],
      "metadata": {
        "id": "zuFWGdRc9NGy"
      },
      "execution_count": null,
      "outputs": []
    },
    {
      "cell_type": "code",
      "source": [
        "last_visited(*visited_places) #using a star before a list unpacks the objects in the list"
      ],
      "metadata": {
        "colab": {
          "base_uri": "https://localhost:8080/",
          "height": 54
        },
        "id": "cb-RRl2n-OTo",
        "outputId": "b4b497df-6f3e-4243-a748-0aff506a6ef2"
      },
      "execution_count": null,
      "outputs": [
        {
          "output_type": "stream",
          "name": "stdout",
          "text": [
            "('delhi', 'chennai', 'shillong', 'Bits Pilani K K Birla Goa Campus')\n"
          ]
        },
        {
          "output_type": "execute_result",
          "data": {
            "text/plain": [
              "'Bits Pilani K K Birla Goa Campus'"
            ],
            "application/vnd.google.colaboratory.intrinsic+json": {
              "type": "string"
            }
          },
          "metadata": {},
          "execution_count": 305
        }
      ]
    },
    {
      "cell_type": "code",
      "source": [
        "def full_name(**kwargs):\n",
        "  print(kwargs)\n",
        "  return kwargs[\"name\"]+kwargs[\"middle_name\"]+ kwargs[\"last_name\"]"
      ],
      "metadata": {
        "id": "UfWgWe3g-Q-F"
      },
      "execution_count": null,
      "outputs": []
    },
    {
      "cell_type": "code",
      "source": [
        "full_name(name = \"ram \", last_name=\"patil\",middle_name=\"shyam \")"
      ],
      "metadata": {
        "colab": {
          "base_uri": "https://localhost:8080/",
          "height": 54
        },
        "id": "SXbKn0Xs-m7D",
        "outputId": "eccfee9c-ca98-47a1-8e9c-3b6fb6b311dc"
      },
      "execution_count": null,
      "outputs": [
        {
          "output_type": "stream",
          "name": "stdout",
          "text": [
            "{'name': 'ram ', 'last_name': 'patil', 'middle_name': 'shyam '}\n"
          ]
        },
        {
          "output_type": "execute_result",
          "data": {
            "text/plain": [
              "'ram shyam patil'"
            ],
            "application/vnd.google.colaboratory.intrinsic+json": {
              "type": "string"
            }
          },
          "metadata": {},
          "execution_count": 307
        }
      ]
    },
    {
      "cell_type": "code",
      "source": [
        "#list comprehension and lambda functions\n",
        "\n",
        "#List of alphabets- normal way..\n",
        "\n",
        "alphabets = []\n",
        "for i in range(65,91):\n",
        "  alphabets.append(chr(i))\n",
        "alphabets\n",
        "\n"
      ],
      "metadata": {
        "id": "5oXgr6O0_sJA",
        "colab": {
          "base_uri": "https://localhost:8080/"
        },
        "outputId": "879c997c-ea8d-42a4-acd2-c2630891f613"
      },
      "execution_count": null,
      "outputs": [
        {
          "output_type": "execute_result",
          "data": {
            "text/plain": [
              "['A',\n",
              " 'B',\n",
              " 'C',\n",
              " 'D',\n",
              " 'E',\n",
              " 'F',\n",
              " 'G',\n",
              " 'H',\n",
              " 'I',\n",
              " 'J',\n",
              " 'K',\n",
              " 'L',\n",
              " 'M',\n",
              " 'N',\n",
              " 'O',\n",
              " 'P',\n",
              " 'Q',\n",
              " 'R',\n",
              " 'S',\n",
              " 'T',\n",
              " 'U',\n",
              " 'V',\n",
              " 'W',\n",
              " 'X',\n",
              " 'Y',\n",
              " 'Z']"
            ]
          },
          "metadata": {},
          "execution_count": 308
        }
      ]
    },
    {
      "cell_type": "code",
      "source": [
        "# using list comprehension \n",
        "\n",
        "alphabets = [chr(i) for i in range(65,91)]\n",
        "alphabets"
      ],
      "metadata": {
        "colab": {
          "base_uri": "https://localhost:8080/"
        },
        "id": "1wH_K3GLkEPE",
        "outputId": "4a389546-1d8f-4c37-e8d5-066acdf7ae6d"
      },
      "execution_count": null,
      "outputs": [
        {
          "output_type": "execute_result",
          "data": {
            "text/plain": [
              "['A',\n",
              " 'B',\n",
              " 'C',\n",
              " 'D',\n",
              " 'E',\n",
              " 'F',\n",
              " 'G',\n",
              " 'H',\n",
              " 'I',\n",
              " 'J',\n",
              " 'K',\n",
              " 'L',\n",
              " 'M',\n",
              " 'N',\n",
              " 'O',\n",
              " 'P',\n",
              " 'Q',\n",
              " 'R',\n",
              " 'S',\n",
              " 'T',\n",
              " 'U',\n",
              " 'V',\n",
              " 'W',\n",
              " 'X',\n",
              " 'Y',\n",
              " 'Z']"
            ]
          },
          "metadata": {},
          "execution_count": 187
        }
      ]
    },
    {
      "cell_type": "code",
      "source": [
        "my_func = lambda x,y : x**y\n",
        "my_func(3,4)"
      ],
      "metadata": {
        "colab": {
          "base_uri": "https://localhost:8080/"
        },
        "id": "kZ7TWhGUkcx6",
        "outputId": "04142e2c-4e43-426c-ba58-95f7aee66224"
      },
      "execution_count": null,
      "outputs": [
        {
          "output_type": "execute_result",
          "data": {
            "text/plain": [
              "81"
            ]
          },
          "metadata": {},
          "execution_count": 310
        }
      ]
    },
    {
      "cell_type": "markdown",
      "source": [
        "Numpy is the core library for scientific computing in Python. It provides a high-performance multidimensional array object, and tools for working with these arrays\n",
        "\n",
        "Numpy is already installed in the google colab; so we dont have to install it seperately ."
      ],
      "metadata": {
        "id": "3JENIrxJktBg"
      }
    },
    {
      "cell_type": "code",
      "source": [
        "import numpy \n",
        "import numpy as np\n"
      ],
      "metadata": {
        "id": "uUvZkUi-shhv"
      },
      "execution_count": null,
      "outputs": []
    },
    {
      "cell_type": "code",
      "source": [
        "a = numpy.array([1, 2, 3])  # Create a rank 1 array\n",
        "print(a)\n",
        "a[0] = 5                 # Change an element of the array\n",
        "print(a)                  "
      ],
      "metadata": {
        "colab": {
          "base_uri": "https://localhost:8080/"
        },
        "id": "KrZp5VoLshjJ",
        "outputId": "ab32012f-294c-4f74-d5d8-f41f8097d009"
      },
      "execution_count": null,
      "outputs": [
        {
          "output_type": "stream",
          "name": "stdout",
          "text": [
            "[1 2 3]\n",
            "[5 2 3]\n"
          ]
        }
      ]
    },
    {
      "cell_type": "code",
      "source": [
        "type(a)"
      ],
      "metadata": {
        "id": "ylZyv8i1shmp",
        "colab": {
          "base_uri": "https://localhost:8080/"
        },
        "outputId": "cf0356d8-2364-4083-8806-5a6a0a120fd0"
      },
      "execution_count": null,
      "outputs": [
        {
          "output_type": "execute_result",
          "data": {
            "text/plain": [
              "numpy.ndarray"
            ]
          },
          "metadata": {},
          "execution_count": 328
        }
      ]
    },
    {
      "cell_type": "code",
      "source": [
        "b = numpy.array([[1,2,3],[4,5,6]])   # Create a rank 2 array\n",
        "print(b)"
      ],
      "metadata": {
        "id": "UJeecqe0tU1l",
        "colab": {
          "base_uri": "https://localhost:8080/"
        },
        "outputId": "e3a2ed37-04d7-4a55-f84c-a589b30ca60f"
      },
      "execution_count": null,
      "outputs": [
        {
          "output_type": "stream",
          "name": "stdout",
          "text": [
            "[[1 2 3]\n",
            " [4 5 6]]\n"
          ]
        }
      ]
    },
    {
      "cell_type": "code",
      "source": [
        "c = np.zeros((2,2))  # Create an array of all zeros\n",
        "print(c)"
      ],
      "metadata": {
        "colab": {
          "base_uri": "https://localhost:8080/"
        },
        "id": "Ut04aWMktWrd",
        "outputId": "b0235c64-5bef-4773-aa4b-92816c1820ea"
      },
      "execution_count": null,
      "outputs": [
        {
          "output_type": "stream",
          "name": "stdout",
          "text": [
            "[[0. 0.]\n",
            " [0. 0.]]\n"
          ]
        }
      ]
    },
    {
      "cell_type": "code",
      "source": [
        "c+2 #2 is added to every element\n"
      ],
      "metadata": {
        "colab": {
          "base_uri": "https://localhost:8080/"
        },
        "id": "aYeWAtZ6tjwO",
        "outputId": "adbbef16-8880-45bd-86c0-7aa4901985d6"
      },
      "execution_count": null,
      "outputs": [
        {
          "output_type": "execute_result",
          "data": {
            "text/plain": [
              "array([[2., 2.],\n",
              "       [2., 2.]])"
            ]
          },
          "metadata": {},
          "execution_count": 331
        }
      ]
    },
    {
      "cell_type": "code",
      "source": [
        "print(a)\n",
        "print(a+1)"
      ],
      "metadata": {
        "colab": {
          "base_uri": "https://localhost:8080/"
        },
        "id": "TA4HeN4ZuMev",
        "outputId": "9cc76664-7658-4a24-9827-d2442d3f3d07"
      },
      "execution_count": null,
      "outputs": [
        {
          "output_type": "stream",
          "name": "stdout",
          "text": [
            "[5 2 3]\n",
            "[6 3 4]\n"
          ]
        }
      ]
    },
    {
      "cell_type": "code",
      "source": [
        "d = [1,2,3] \n",
        "\n",
        "d+1"
      ],
      "metadata": {
        "colab": {
          "base_uri": "https://localhost:8080/",
          "height": 207
        },
        "id": "60aBitRkuT_q",
        "outputId": "1fc7190c-f479-433f-8ea2-5cd1ac314176"
      },
      "execution_count": null,
      "outputs": [
        {
          "output_type": "error",
          "ename": "TypeError",
          "evalue": "ignored",
          "traceback": [
            "\u001b[0;31m---------------------------------------------------------------------------\u001b[0m",
            "\u001b[0;31mTypeError\u001b[0m                                 Traceback (most recent call last)",
            "\u001b[0;32m<ipython-input-333-cc31c886cf22>\u001b[0m in \u001b[0;36m<module>\u001b[0;34m()\u001b[0m\n\u001b[1;32m      1\u001b[0m \u001b[0md\u001b[0m \u001b[0;34m=\u001b[0m \u001b[0;34m[\u001b[0m\u001b[0;36m1\u001b[0m\u001b[0;34m,\u001b[0m\u001b[0;36m2\u001b[0m\u001b[0;34m,\u001b[0m\u001b[0;36m3\u001b[0m\u001b[0;34m]\u001b[0m\u001b[0;34m\u001b[0m\u001b[0;34m\u001b[0m\u001b[0m\n\u001b[1;32m      2\u001b[0m \u001b[0;34m\u001b[0m\u001b[0m\n\u001b[0;32m----> 3\u001b[0;31m \u001b[0md\u001b[0m\u001b[0;34m+\u001b[0m\u001b[0;36m1\u001b[0m\u001b[0;34m\u001b[0m\u001b[0;34m\u001b[0m\u001b[0m\n\u001b[0m",
            "\u001b[0;31mTypeError\u001b[0m: can only concatenate list (not \"int\") to list"
          ]
        }
      ]
    },
    {
      "cell_type": "code",
      "source": [
        "d = np.eye(2)        # Create a 2x2 identity matrix\n",
        "print(d)"
      ],
      "metadata": {
        "id": "TM6-e--rvPfE",
        "colab": {
          "base_uri": "https://localhost:8080/"
        },
        "outputId": "eb2e949d-6fa2-4720-b736-e69e14dce4db"
      },
      "execution_count": null,
      "outputs": [
        {
          "output_type": "stream",
          "name": "stdout",
          "text": [
            "[[1. 0.]\n",
            " [0. 1.]]\n"
          ]
        }
      ]
    },
    {
      "cell_type": "code",
      "source": [
        "#index slicing in numpy\n",
        "import numpy as np\n",
        "\n",
        "# Create the following rank 2 array with shape (3, 4)\n",
        "# [[ 1  2  3  4]\n",
        "#  [ 5  6  7  8]\n",
        "#  [ 9 10 11 12]]\n",
        "a = np.array([[1,2,3,4], [5,6,7,8], [9,10,11,12]])"
      ],
      "metadata": {
        "id": "m5rMQg3XKxTB"
      },
      "execution_count": null,
      "outputs": []
    },
    {
      "cell_type": "code",
      "source": [
        "a*3 + 2"
      ],
      "metadata": {
        "colab": {
          "base_uri": "https://localhost:8080/"
        },
        "id": "rHMIyY2JAIHc",
        "outputId": "743decdf-7b71-48f5-bc75-466c7e5b1fc8"
      },
      "execution_count": null,
      "outputs": [
        {
          "output_type": "execute_result",
          "data": {
            "text/plain": [
              "array([[ 5,  8, 11, 14],\n",
              "       [17, 20, 23, 26],\n",
              "       [29, 32, 35, 38]])"
            ]
          },
          "metadata": {},
          "execution_count": 337
        }
      ]
    },
    {
      "cell_type": "code",
      "source": [
        ""
      ],
      "metadata": {
        "id": "51pWiPbwAJfg"
      },
      "execution_count": null,
      "outputs": []
    }
  ]
}